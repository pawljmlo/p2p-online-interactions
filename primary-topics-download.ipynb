{
  "nbformat": 4,
  "nbformat_minor": 0,
  "metadata": {
    "colab": {
      "name": "primary-topics-download.ipynb",
      "provenance": [],
      "authorship_tag": "ABX9TyNY7SrzhdosvDcj0SG7R3Ne",
      "include_colab_link": true
    },
    "kernelspec": {
      "name": "python3",
      "display_name": "Python 3"
    },
    "language_info": {
      "name": "python"
    }
  },
  "cells": [
    {
      "cell_type": "markdown",
      "metadata": {
        "id": "view-in-github",
        "colab_type": "text"
      },
      "source": [
        "<a href=\"https://colab.research.google.com/github/pawljmlo/dawid-phd/blob/main/primary-topics-download.ipynb\" target=\"_parent\"><img src=\"https://colab.research.google.com/assets/colab-badge.svg\" alt=\"Open In Colab\"/></a>"
      ]
    },
    {
      "cell_type": "markdown",
      "metadata": {
        "id": "W-22CnJilLEq"
      },
      "source": [
        "# depression"
      ]
    },
    {
      "cell_type": "code",
      "metadata": {
        "id": "2meEKI9clK-h"
      },
      "source": [
        "import os\n",
        "import glob\n",
        "import re"
      ],
      "execution_count": null,
      "outputs": []
    },
    {
      "cell_type": "code",
      "metadata": {
        "id": "yLVDK2vxlN54"
      },
      "source": [
        "files = glob.glob('*.txt')"
      ],
      "execution_count": null,
      "outputs": []
    },
    {
      "cell_type": "code",
      "metadata": {
        "colab": {
          "base_uri": "https://localhost:8080/"
        },
        "id": "I7qXjLZccOd4",
        "outputId": "ade940a1-d5eb-4013-d6d4-0b05feec916a"
      },
      "source": [
        "my_list = []\n",
        "\n",
        "for file in files:\n",
        "  print(file)\n",
        "\n",
        "  with open(file, 'r') as f:\n",
        "    lines = f.readlines()\n",
        "\n",
        "    topic = \"\"\n",
        "    number = \"\"\n",
        "\n",
        "    topic_old = \"\"\n",
        "    number_old = \"\"\n",
        "    flag = 0\n",
        "\n",
        "    for i in range(len(lines)):\n",
        "\n",
        "      line = lines[i]\n",
        "\n",
        "      topic_old = topic\n",
        "      number_old = number\n",
        "\n",
        "      # matched = re.findall(\"(?:^|\\W)ostatni\\spost\\sprzez(?:$|\\W)\", line)\n",
        "      # if matched:\n",
        "      #   topic = line.split(' - ostatni post przez')[0]\n",
        "\n",
        "      if re.findall(\"Napisany\\sprzez(?:$|\\W)\", line):\n",
        "        topic = lines[i-1][:-1]\n",
        "\n",
        "      if line.endswith(\"odpowiedź\\n\") or line.endswith(\"odpowiedzi\\n\"):\n",
        "        \n",
        "        matched = re.findall(r\"(\\d+)\", line)\n",
        "        if matched:\n",
        "          number = matched[0]\n",
        "          flag = 1\n",
        "\n",
        "      if flag == 1:\n",
        "        flag = 0\n",
        "        my_list.append([file, topic, number])\n"
      ],
      "execution_count": null,
      "outputs": [
        {
          "output_type": "stream",
          "text": [
            "Polecani psychiatrzy.txt\n",
            "Leki.txt\n",
            "depresja poporodowa.txt\n",
            "wyzdrowiałem, zmieniłem swoje życie.txt\n",
            "Psychoterapia, psychologia.txt\n",
            "depresja pytania i rozmowy.txt\n",
            "zabawy.txt\n",
            "relacje międzyludzkie.txt\n",
            "wiara.txt\n",
            "depresja dwubiegunowa.txt\n",
            "inne zaburzenia borderline, schizofrenia, nerwice.txt\n",
            "co mnie boli czyli pozostałe choroby.txt\n",
            "pokój zapoznawczy.txt\n",
            "rozwój osobisty.txt\n",
            "metody niekonwencjonalne.txt\n",
            "swobodnie, rozmownie.txt\n",
            "depresja informacje zebrane.txt\n",
            "depresja a sztuka.txt\n"
          ],
          "name": "stdout"
        }
      ]
    },
    {
      "cell_type": "code",
      "metadata": {
        "colab": {
          "base_uri": "https://localhost:8080/"
        },
        "id": "7VYj2t65ofk_",
        "outputId": "a348fa89-1088-4a1b-f3a7-a863380cdbef"
      },
      "source": [
        "matched = re.findall(r\"(\\d+)\", \"GORĄCY  3890 odpowiedzi\")\n",
        "print(matched)"
      ],
      "execution_count": null,
      "outputs": [
        {
          "output_type": "stream",
          "text": [
            "['3890']\n"
          ],
          "name": "stdout"
        }
      ]
    },
    {
      "cell_type": "code",
      "metadata": {
        "id": "vrmimvPlnyg5"
      },
      "source": [
        "import pandas as pd"
      ],
      "execution_count": null,
      "outputs": []
    },
    {
      "cell_type": "code",
      "metadata": {
        "colab": {
          "base_uri": "https://localhost:8080/",
          "height": 206
        },
        "id": "KLTANlrAn2xb",
        "outputId": "55f15662-cd6b-47c2-d45c-c29e85c10b4b"
      },
      "source": [
        "df = pd.DataFrame(my_list, columns=[\"group\", \"topic\", \"posts\"])\n",
        "df.head()"
      ],
      "execution_count": null,
      "outputs": [
        {
          "output_type": "execute_result",
          "data": {
            "text/html": [
              "<div>\n",
              "<style scoped>\n",
              "    .dataframe tbody tr th:only-of-type {\n",
              "        vertical-align: middle;\n",
              "    }\n",
              "\n",
              "    .dataframe tbody tr th {\n",
              "        vertical-align: top;\n",
              "    }\n",
              "\n",
              "    .dataframe thead th {\n",
              "        text-align: right;\n",
              "    }\n",
              "</style>\n",
              "<table border=\"1\" class=\"dataframe\">\n",
              "  <thead>\n",
              "    <tr style=\"text-align: right;\">\n",
              "      <th></th>\n",
              "      <th>group</th>\n",
              "      <th>topic</th>\n",
              "      <th>posts</th>\n",
              "    </tr>\n",
              "  </thead>\n",
              "  <tbody>\n",
              "    <tr>\n",
              "      <th>0</th>\n",
              "      <td>Polecani psychiatrzy.txt</td>\n",
              "      <td>Strony z adresami psychiatrów/ psychologów</td>\n",
              "      <td>29</td>\n",
              "    </tr>\n",
              "    <tr>\n",
              "      <th>1</th>\n",
              "      <td>Polecani psychiatrzy.txt</td>\n",
              "      <td>PODPIĘTY  116-123 BEZPŁATNY NR....</td>\n",
              "      <td>20</td>\n",
              "    </tr>\n",
              "    <tr>\n",
              "      <th>2</th>\n",
              "      <td>Polecani psychiatrzy.txt</td>\n",
              "      <td>PODPIĘTY  Telefon zaufania dla uzależnionych -...</td>\n",
              "      <td>1</td>\n",
              "    </tr>\n",
              "    <tr>\n",
              "      <th>3</th>\n",
              "      <td>Polecani psychiatrzy.txt</td>\n",
              "      <td>PODPIĘTY  Bezpłatna Poradnia Telefoniczna</td>\n",
              "      <td>7</td>\n",
              "    </tr>\n",
              "    <tr>\n",
              "      <th>4</th>\n",
              "      <td>Polecani psychiatrzy.txt</td>\n",
              "      <td>PODPIĘTY  Regulamin</td>\n",
              "      <td>0</td>\n",
              "    </tr>\n",
              "  </tbody>\n",
              "</table>\n",
              "</div>"
            ],
            "text/plain": [
              "                      group  ... posts\n",
              "0  Polecani psychiatrzy.txt  ...    29\n",
              "1  Polecani psychiatrzy.txt  ...    20\n",
              "2  Polecani psychiatrzy.txt  ...     1\n",
              "3  Polecani psychiatrzy.txt  ...     7\n",
              "4  Polecani psychiatrzy.txt  ...     0\n",
              "\n",
              "[5 rows x 3 columns]"
            ]
          },
          "metadata": {
            "tags": []
          },
          "execution_count": 246
        }
      ]
    },
    {
      "cell_type": "code",
      "metadata": {
        "id": "EAGpIgF-oIqH"
      },
      "source": [
        "df['posts'] = df['posts'].astype('int64')"
      ],
      "execution_count": null,
      "outputs": []
    },
    {
      "cell_type": "code",
      "metadata": {
        "colab": {
          "base_uri": "https://localhost:8080/",
          "height": 609
        },
        "id": "EfZUt7eRn7bJ",
        "outputId": "db7827ac-0415-4c00-ae15-e79198e81b3e"
      },
      "source": [
        "df['posts'].hist(figsize=(20,10), bins=3)"
      ],
      "execution_count": null,
      "outputs": [
        {
          "output_type": "execute_result",
          "data": {
            "text/plain": [
              "<matplotlib.axes._subplots.AxesSubplot at 0x7f2c23316cd0>"
            ]
          },
          "metadata": {
            "tags": []
          },
          "execution_count": 248
        },
        {
          "output_type": "display_data",
          "data": {
            "image/png": "[encoded data removed]",
            "text/plain": [
              "<Figure size 1440x720 with 1 Axes>"
            ]
          },
          "metadata": {
            "tags": [],
            "needs_background": "light"
          }
        }
      ]
    },
    {
      "cell_type": "code",
      "metadata": {
        "colab": {
          "base_uri": "https://localhost:8080/",
          "height": 609
        },
        "id": "xyYi21xxqPGX",
        "outputId": "d9284bb4-8ee5-49b3-f91e-3b8e39be51c0"
      },
      "source": [
        "df[df['posts'] < 2000]['posts'].hist(figsize=(20,10))"
      ],
      "execution_count": null,
      "outputs": [
        {
          "output_type": "execute_result",
          "data": {
            "text/plain": [
              "<matplotlib.axes._subplots.AxesSubplot at 0x7f2c232c8990>"
            ]
          },
          "metadata": {
            "tags": []
          },
          "execution_count": 249
        },
        {
          "output_type": "display_data",
          "data": {
            "image/png": "[encoded data removed]",
            "text/plain": [
              "<Figure size 1440x720 with 1 Axes>"
            ]
          },
          "metadata": {
            "tags": [],
            "needs_background": "light"
          }
        }
      ]
    },
    {
      "cell_type": "code",
      "metadata": {
        "colab": {
          "base_uri": "https://localhost:8080/",
          "height": 609
        },
        "id": "LMK7lvqOqkzT",
        "outputId": "29c0bd50-deff-49a0-9978-c679bbc3827e"
      },
      "source": [
        "df[df['posts'] < 200]['posts'].hist(figsize=(20,10))"
      ],
      "execution_count": null,
      "outputs": [
        {
          "output_type": "execute_result",
          "data": {
            "text/plain": [
              "<matplotlib.axes._subplots.AxesSubplot at 0x7f2c231cdfd0>"
            ]
          },
          "metadata": {
            "tags": []
          },
          "execution_count": 250
        },
        {
          "output_type": "display_data",
          "data": {
            "image/png": "[encoded data removed]",
            "text/plain": [
              "<Figure size 1440x720 with 1 Axes>"
            ]
          },
          "metadata": {
            "tags": [],
            "needs_background": "light"
          }
        }
      ]
    },
    {
      "cell_type": "code",
      "metadata": {
        "colab": {
          "base_uri": "https://localhost:8080/"
        },
        "id": "SRnyciGRqZ1E",
        "outputId": "30f3fd15-a6c8-4569-9c46-fe30ef330d4e"
      },
      "source": [
        "df['posts'].describe()"
      ],
      "execution_count": null,
      "outputs": [
        {
          "output_type": "execute_result",
          "data": {
            "text/plain": [
              "count     4585.000000\n",
              "mean        58.331298\n",
              "std        718.096330\n",
              "min          0.000000\n",
              "25%          3.000000\n",
              "50%          7.000000\n",
              "75%         16.000000\n",
              "max      36226.000000\n",
              "Name: posts, dtype: float64"
            ]
          },
          "metadata": {
            "tags": []
          },
          "execution_count": 251
        }
      ]
    },
    {
      "cell_type": "code",
      "metadata": {
        "colab": {
          "base_uri": "https://localhost:8080/",
          "height": 426
        },
        "id": "pn_YCSo41AkX",
        "outputId": "f67486db-736a-445c-d618-67b6646f95f7"
      },
      "source": [
        "df[df['posts'] > 4000]"
      ],
      "execution_count": null,
      "outputs": [
        {
          "output_type": "execute_result",
          "data": {
            "text/html": [
              "<div>\n",
              "<style scoped>\n",
              "    .dataframe tbody tr th:only-of-type {\n",
              "        vertical-align: middle;\n",
              "    }\n",
              "\n",
              "    .dataframe tbody tr th {\n",
              "        vertical-align: top;\n",
              "    }\n",
              "\n",
              "    .dataframe thead th {\n",
              "        text-align: right;\n",
              "    }\n",
              "</style>\n",
              "<table border=\"1\" class=\"dataframe\">\n",
              "  <thead>\n",
              "    <tr style=\"text-align: right;\">\n",
              "      <th></th>\n",
              "      <th>group</th>\n",
              "      <th>topic</th>\n",
              "      <th>posts</th>\n",
              "    </tr>\n",
              "  </thead>\n",
              "  <tbody>\n",
              "    <tr>\n",
              "      <th>1359</th>\n",
              "      <td>zabawy.txt</td>\n",
              "      <td>zabawa w zadaj pytanie</td>\n",
              "      <td>10827</td>\n",
              "    </tr>\n",
              "    <tr>\n",
              "      <th>1360</th>\n",
              "      <td>zabawy.txt</td>\n",
              "      <td>Bez literek ''a''</td>\n",
              "      <td>10190</td>\n",
              "    </tr>\n",
              "    <tr>\n",
              "      <th>1363</th>\n",
              "      <td>zabawy.txt</td>\n",
              "      <td>Skojarzenia</td>\n",
              "      <td>36226</td>\n",
              "    </tr>\n",
              "    <tr>\n",
              "      <th>1364</th>\n",
              "      <td>zabawy.txt</td>\n",
              "      <td>Dwie ostatnie litery</td>\n",
              "      <td>19083</td>\n",
              "    </tr>\n",
              "    <tr>\n",
              "      <th>1365</th>\n",
              "      <td>zabawy.txt</td>\n",
              "      <td>Lepieje</td>\n",
              "      <td>4953</td>\n",
              "    </tr>\n",
              "    <tr>\n",
              "      <th>1366</th>\n",
              "      <td>zabawy.txt</td>\n",
              "      <td>TROCHĘ ROZRYWKI - TO CZY TAMTO?</td>\n",
              "      <td>5098</td>\n",
              "    </tr>\n",
              "    <tr>\n",
              "      <th>1384</th>\n",
              "      <td>zabawy.txt</td>\n",
              "      <td>inna zabawa w skojarzenia</td>\n",
              "      <td>6164</td>\n",
              "    </tr>\n",
              "    <tr>\n",
              "      <th>3847</th>\n",
              "      <td>swobodnie, rozmownie.txt</td>\n",
              "      <td>Jak się czujesz?</td>\n",
              "      <td>10964</td>\n",
              "    </tr>\n",
              "    <tr>\n",
              "      <th>3848</th>\n",
              "      <td>swobodnie, rozmownie.txt</td>\n",
              "      <td>PODPIĘTY  O czym teraz myślisz?</td>\n",
              "      <td>6036</td>\n",
              "    </tr>\n",
              "    <tr>\n",
              "      <th>4073</th>\n",
              "      <td>swobodnie, rozmownie.txt</td>\n",
              "      <td>Dziś pytanie-dziś odpowiedź</td>\n",
              "      <td>6863</td>\n",
              "    </tr>\n",
              "    <tr>\n",
              "      <th>4358</th>\n",
              "      <td>depresja informacje zebrane.txt</td>\n",
              "      <td>SAMOBÓJSTWO</td>\n",
              "      <td>4062</td>\n",
              "    </tr>\n",
              "    <tr>\n",
              "      <th>4419</th>\n",
              "      <td>depresja a sztuka.txt</td>\n",
              "      <td>Muzyka :)</td>\n",
              "      <td>7249</td>\n",
              "    </tr>\n",
              "  </tbody>\n",
              "</table>\n",
              "</div>"
            ],
            "text/plain": [
              "                                group                            topic  posts\n",
              "1359                       zabawy.txt           zabawa w zadaj pytanie  10827\n",
              "1360                       zabawy.txt                Bez literek ''a''  10190\n",
              "1363                       zabawy.txt                      Skojarzenia  36226\n",
              "1364                       zabawy.txt             Dwie ostatnie litery  19083\n",
              "1365                       zabawy.txt                          Lepieje   4953\n",
              "1366                       zabawy.txt  TROCHĘ ROZRYWKI - TO CZY TAMTO?   5098\n",
              "1384                       zabawy.txt        inna zabawa w skojarzenia   6164\n",
              "3847         swobodnie, rozmownie.txt                 Jak się czujesz?  10964\n",
              "3848         swobodnie, rozmownie.txt  PODPIĘTY  O czym teraz myślisz?   6036\n",
              "4073         swobodnie, rozmownie.txt      Dziś pytanie-dziś odpowiedź   6863\n",
              "4358  depresja informacje zebrane.txt                      SAMOBÓJSTWO   4062\n",
              "4419            depresja a sztuka.txt                        Muzyka :)   7249"
            ]
          },
          "metadata": {
            "tags": []
          },
          "execution_count": 252
        }
      ]
    },
    {
      "cell_type": "code",
      "metadata": {
        "colab": {
          "base_uri": "https://localhost:8080/",
          "height": 645
        },
        "id": "JBPBcwoWqgfZ",
        "outputId": "47c7815c-3f3e-4193-a113-e59a19980497"
      },
      "source": [
        "df.groupby('group').sum()"
      ],
      "execution_count": null,
      "outputs": [
        {
          "output_type": "execute_result",
          "data": {
            "text/html": [
              "<div>\n",
              "<style scoped>\n",
              "    .dataframe tbody tr th:only-of-type {\n",
              "        vertical-align: middle;\n",
              "    }\n",
              "\n",
              "    .dataframe tbody tr th {\n",
              "        vertical-align: top;\n",
              "    }\n",
              "\n",
              "    .dataframe thead th {\n",
              "        text-align: right;\n",
              "    }\n",
              "</style>\n",
              "<table border=\"1\" class=\"dataframe\">\n",
              "  <thead>\n",
              "    <tr style=\"text-align: right;\">\n",
              "      <th></th>\n",
              "      <th>posts</th>\n",
              "    </tr>\n",
              "    <tr>\n",
              "      <th>group</th>\n",
              "      <th></th>\n",
              "    </tr>\n",
              "  </thead>\n",
              "  <tbody>\n",
              "    <tr>\n",
              "      <th>Leki.txt</th>\n",
              "      <td>981</td>\n",
              "    </tr>\n",
              "    <tr>\n",
              "      <th>Polecani psychiatrzy.txt</th>\n",
              "      <td>1249</td>\n",
              "    </tr>\n",
              "    <tr>\n",
              "      <th>Psychoterapia, psychologia.txt</th>\n",
              "      <td>1481</td>\n",
              "    </tr>\n",
              "    <tr>\n",
              "      <th>co mnie boli czyli pozostałe choroby.txt</th>\n",
              "      <td>435</td>\n",
              "    </tr>\n",
              "    <tr>\n",
              "      <th>depresja a sztuka.txt</th>\n",
              "      <td>22291</td>\n",
              "    </tr>\n",
              "    <tr>\n",
              "      <th>depresja dwubiegunowa.txt</th>\n",
              "      <td>581</td>\n",
              "    </tr>\n",
              "    <tr>\n",
              "      <th>depresja informacje zebrane.txt</th>\n",
              "      <td>5164</td>\n",
              "    </tr>\n",
              "    <tr>\n",
              "      <th>depresja poporodowa.txt</th>\n",
              "      <td>699</td>\n",
              "    </tr>\n",
              "    <tr>\n",
              "      <th>depresja pytania i rozmowy.txt</th>\n",
              "      <td>16156</td>\n",
              "    </tr>\n",
              "    <tr>\n",
              "      <th>inne zaburzenia borderline, schizofrenia, nerwice.txt</th>\n",
              "      <td>5835</td>\n",
              "    </tr>\n",
              "    <tr>\n",
              "      <th>metody niekonwencjonalne.txt</th>\n",
              "      <td>554</td>\n",
              "    </tr>\n",
              "    <tr>\n",
              "      <th>pokój zapoznawczy.txt</th>\n",
              "      <td>23802</td>\n",
              "    </tr>\n",
              "    <tr>\n",
              "      <th>relacje międzyludzkie.txt</th>\n",
              "      <td>5316</td>\n",
              "    </tr>\n",
              "    <tr>\n",
              "      <th>rozwój osobisty.txt</th>\n",
              "      <td>2228</td>\n",
              "    </tr>\n",
              "    <tr>\n",
              "      <th>swobodnie, rozmownie.txt</th>\n",
              "      <td>75501</td>\n",
              "    </tr>\n",
              "    <tr>\n",
              "      <th>wiara.txt</th>\n",
              "      <td>2442</td>\n",
              "    </tr>\n",
              "    <tr>\n",
              "      <th>wyzdrowiałem, zmieniłem swoje życie.txt</th>\n",
              "      <td>208</td>\n",
              "    </tr>\n",
              "    <tr>\n",
              "      <th>zabawy.txt</th>\n",
              "      <td>102526</td>\n",
              "    </tr>\n",
              "  </tbody>\n",
              "</table>\n",
              "</div>"
            ],
            "text/plain": [
              "                                                     posts\n",
              "group                                                     \n",
              "Leki.txt                                               981\n",
              "Polecani psychiatrzy.txt                              1249\n",
              "Psychoterapia, psychologia.txt                        1481\n",
              "co mnie boli czyli pozostałe choroby.txt               435\n",
              "depresja a sztuka.txt                                22291\n",
              "depresja dwubiegunowa.txt                              581\n",
              "depresja informacje zebrane.txt                       5164\n",
              "depresja poporodowa.txt                                699\n",
              "depresja pytania i rozmowy.txt                       16156\n",
              "inne zaburzenia borderline, schizofrenia, nerwi...    5835\n",
              "metody niekonwencjonalne.txt                           554\n",
              "pokój zapoznawczy.txt                                23802\n",
              "relacje międzyludzkie.txt                             5316\n",
              "rozwój osobisty.txt                                   2228\n",
              "swobodnie, rozmownie.txt                             75501\n",
              "wiara.txt                                             2442\n",
              "wyzdrowiałem, zmieniłem swoje życie.txt                208\n",
              "zabawy.txt                                          102526"
            ]
          },
          "metadata": {
            "tags": []
          },
          "execution_count": 254
        }
      ]
    },
    {
      "cell_type": "code",
      "metadata": {
        "colab": {
          "base_uri": "https://localhost:8080/",
          "height": 457
        },
        "id": "Bvc5OepOtyK8",
        "outputId": "6a9cc711-91dc-4b5a-85f0-c96e60c93be5"
      },
      "source": [
        "df[df['group'] == 'wyzdrowiałem, zmieniłem swoje życie.txt']"
      ],
      "execution_count": null,
      "outputs": [
        {
          "output_type": "execute_result",
          "data": {
            "text/html": [
              "<div>\n",
              "<style scoped>\n",
              "    .dataframe tbody tr th:only-of-type {\n",
              "        vertical-align: middle;\n",
              "    }\n",
              "\n",
              "    .dataframe tbody tr th {\n",
              "        vertical-align: top;\n",
              "    }\n",
              "\n",
              "    .dataframe thead th {\n",
              "        text-align: right;\n",
              "    }\n",
              "</style>\n",
              "<table border=\"1\" class=\"dataframe\">\n",
              "  <thead>\n",
              "    <tr style=\"text-align: right;\">\n",
              "      <th></th>\n",
              "      <th>group</th>\n",
              "      <th>topic</th>\n",
              "      <th>posts</th>\n",
              "    </tr>\n",
              "  </thead>\n",
              "  <tbody>\n",
              "    <tr>\n",
              "      <th>298</th>\n",
              "      <td>wyzdrowiałem, zmieniłem swoje życie.txt</td>\n",
              "      <td>Daj przykład co Tobie pomogło a byc może uratu...</td>\n",
              "      <td>75</td>\n",
              "    </tr>\n",
              "    <tr>\n",
              "      <th>299</th>\n",
              "      <td>wyzdrowiałem, zmieniłem swoje życie.txt</td>\n",
              "      <td>\"Żegnam się z panem\"</td>\n",
              "      <td>7</td>\n",
              "    </tr>\n",
              "    <tr>\n",
              "      <th>300</th>\n",
              "      <td>wyzdrowiałem, zmieniłem swoje życie.txt</td>\n",
              "      <td>Ja też</td>\n",
              "      <td>7</td>\n",
              "    </tr>\n",
              "    <tr>\n",
              "      <th>301</th>\n",
              "      <td>wyzdrowiałem, zmieniłem swoje życie.txt</td>\n",
              "      <td>Byłem tu krótko</td>\n",
              "      <td>5</td>\n",
              "    </tr>\n",
              "    <tr>\n",
              "      <th>302</th>\n",
              "      <td>wyzdrowiałem, zmieniłem swoje życie.txt</td>\n",
              "      <td>A więc tak kochani</td>\n",
              "      <td>16</td>\n",
              "    </tr>\n",
              "    <tr>\n",
              "      <th>303</th>\n",
              "      <td>wyzdrowiałem, zmieniłem swoje życie.txt</td>\n",
              "      <td>The End</td>\n",
              "      <td>2</td>\n",
              "    </tr>\n",
              "    <tr>\n",
              "      <th>304</th>\n",
              "      <td>wyzdrowiałem, zmieniłem swoje życie.txt</td>\n",
              "      <td>Oby.</td>\n",
              "      <td>2</td>\n",
              "    </tr>\n",
              "    <tr>\n",
              "      <th>305</th>\n",
              "      <td>wyzdrowiałem, zmieniłem swoje życie.txt</td>\n",
              "      <td>Depresja już za mną</td>\n",
              "      <td>42</td>\n",
              "    </tr>\n",
              "    <tr>\n",
              "      <th>306</th>\n",
              "      <td>wyzdrowiałem, zmieniłem swoje życie.txt</td>\n",
              "      <td>moje wyjście z chorób oraz rady dla cierpiących</td>\n",
              "      <td>20</td>\n",
              "    </tr>\n",
              "    <tr>\n",
              "      <th>307</th>\n",
              "      <td>wyzdrowiałem, zmieniłem swoje życie.txt</td>\n",
              "      <td>Wygrana z ogonem</td>\n",
              "      <td>4</td>\n",
              "    </tr>\n",
              "    <tr>\n",
              "      <th>308</th>\n",
              "      <td>wyzdrowiałem, zmieniłem swoje życie.txt</td>\n",
              "      <td>Udało się !</td>\n",
              "      <td>3</td>\n",
              "    </tr>\n",
              "    <tr>\n",
              "      <th>309</th>\n",
              "      <td>wyzdrowiałem, zmieniłem swoje życie.txt</td>\n",
              "      <td>I ja też!</td>\n",
              "      <td>15</td>\n",
              "    </tr>\n",
              "    <tr>\n",
              "      <th>310</th>\n",
              "      <td>wyzdrowiałem, zmieniłem swoje życie.txt</td>\n",
              "      <td>Cóż...</td>\n",
              "      <td>10</td>\n",
              "    </tr>\n",
              "  </tbody>\n",
              "</table>\n",
              "</div>"
            ],
            "text/plain": [
              "                                       group  ... posts\n",
              "298  wyzdrowiałem, zmieniłem swoje życie.txt  ...    75\n",
              "299  wyzdrowiałem, zmieniłem swoje życie.txt  ...     7\n",
              "300  wyzdrowiałem, zmieniłem swoje życie.txt  ...     7\n",
              "301  wyzdrowiałem, zmieniłem swoje życie.txt  ...     5\n",
              "302  wyzdrowiałem, zmieniłem swoje życie.txt  ...    16\n",
              "303  wyzdrowiałem, zmieniłem swoje życie.txt  ...     2\n",
              "304  wyzdrowiałem, zmieniłem swoje życie.txt  ...     2\n",
              "305  wyzdrowiałem, zmieniłem swoje życie.txt  ...    42\n",
              "306  wyzdrowiałem, zmieniłem swoje życie.txt  ...    20\n",
              "307  wyzdrowiałem, zmieniłem swoje życie.txt  ...     4\n",
              "308  wyzdrowiałem, zmieniłem swoje życie.txt  ...     3\n",
              "309  wyzdrowiałem, zmieniłem swoje życie.txt  ...    15\n",
              "310  wyzdrowiałem, zmieniłem swoje życie.txt  ...    10\n",
              "\n",
              "[13 rows x 3 columns]"
            ]
          },
          "metadata": {
            "tags": []
          },
          "execution_count": 231
        }
      ]
    },
    {
      "cell_type": "code",
      "metadata": {
        "id": "rkvavFtb2tb0"
      },
      "source": [
        "df.to_csv('Dawus.csv')"
      ],
      "execution_count": null,
      "outputs": []
    },
    {
      "cell_type": "code",
      "metadata": {
        "colab": {
          "base_uri": "https://localhost:8080/",
          "height": 17
        },
        "id": "Pw_JgAHs2xEv",
        "outputId": "2b20374d-c835-4546-8946-06d1a8b4d515"
      },
      "source": [
        "from google.colab import files\n",
        "files.download(\"Dawus.csv\")"
      ],
      "execution_count": null,
      "outputs": [
        {
          "output_type": "display_data",
          "data": {
            "application/javascript": [
              "\n",
              "    async function download(id, filename, size) {\n",
              "      if (!google.colab.kernel.accessAllowed) {\n",
              "        return;\n",
              "      }\n",
              "      const div = document.createElement('div');\n",
              "      const label = document.createElement('label');\n",
              "      label.textContent = `Downloading \"${filename}\": `;\n",
              "      div.appendChild(label);\n",
              "      const progress = document.createElement('progress');\n",
              "      progress.max = size;\n",
              "      div.appendChild(progress);\n",
              "      document.body.appendChild(div);\n",
              "\n",
              "      const buffers = [];\n",
              "      let downloaded = 0;\n",
              "\n",
              "      const channel = await google.colab.kernel.comms.open(id);\n",
              "      // Send a message to notify the kernel that we're ready.\n",
              "      channel.send({})\n",
              "\n",
              "      for await (const message of channel.messages) {\n",
              "        // Send a message to notify the kernel that we're ready.\n",
              "        channel.send({})\n",
              "        if (message.buffers) {\n",
              "          for (const buffer of message.buffers) {\n",
              "            buffers.push(buffer);\n",
              "            downloaded += buffer.byteLength;\n",
              "            progress.value = downloaded;\n",
              "          }\n",
              "        }\n",
              "      }\n",
              "      const blob = new Blob(buffers, {type: 'application/binary'});\n",
              "      const a = document.createElement('a');\n",
              "      a.href = window.URL.createObjectURL(blob);\n",
              "      a.download = filename;\n",
              "      div.appendChild(a);\n",
              "      a.click();\n",
              "      div.remove();\n",
              "    }\n",
              "  "
            ],
            "text/plain": [
              "<IPython.core.display.Javascript object>"
            ]
          },
          "metadata": {
            "tags": []
          }
        },
        {
          "output_type": "display_data",
          "data": {
            "application/javascript": [
              "download(\"download_0fc6eb7f-78a6-4502-a317-f2040bf7646b\", \"Dawus.csv\", 269090)"
            ],
            "text/plain": [
              "<IPython.core.display.Javascript object>"
            ]
          },
          "metadata": {
            "tags": []
          }
        }
      ]
    },
    {
      "cell_type": "markdown",
      "metadata": {
        "id": "wLy9tpeJloaT"
      },
      "source": [
        "# anxiety"
      ]
    },
    {
      "cell_type": "code",
      "metadata": {
        "id": "MDy4VsOj3W80"
      },
      "source": [
        "import os\n",
        "import glob\n",
        "import re"
      ],
      "execution_count": null,
      "outputs": []
    },
    {
      "cell_type": "code",
      "metadata": {
        "colab": {
          "base_uri": "https://localhost:8080/",
          "height": 132
        },
        "id": "JvzbLGyYZqJH",
        "outputId": "171d8e43-ac75-4c18-a898-ba340d134c89"
      },
      "source": [
        "file = \"nerwica-lękowa.txt\"\n",
        "\n",
        "my_list = []\n",
        "\n",
        "with open(file, 'r') as f:\n",
        "  lines = f.readlines()\n",
        "  # print(lines)\n",
        "\n",
        "  topic = \"\"\n",
        "  number = \"\"\n",
        "  flag = 0\n",
        "\n",
        "  for i in range(len(lines)):\n",
        "\n",
        "    line = lines[i]\n",
        "\n",
        "  #   topic_old = topic\n",
        "  #   number_old = number\n",
        "\n",
        "  #   # matched = re.findall(\"(?:^|\\W)ostatni\\spost\\sprzez(?:$|\\W)\", line)\n",
        "  #   # if matched:\n",
        "  #   #   topic = line.split(' - ostatni post przez')[0]\n",
        "\n",
        "    if re.findall(\"Przez(?:$|\\W)\", line):\n",
        "      topic = lines[i-1][:-1].split(\" 1\")[0]\n",
        "\n",
        "    if topic.startswith(\"Nerwica Lekowa jest\"):\n",
        "      topic = \"Nerwica Lekowa jest 100% wyleczalna\"\n",
        "\n",
        "    if topic.startswith(\"Problemy nerwicowo\"):\n",
        "      topic = \"Problemy nerwicowo/neurologiczne od 10 lat...\"\n",
        "\n",
        "    if topic.startswith(\"Terapia - mija właśnie\"):\n",
        "      topic = \"Terapia - mija właśnie 1,5 roku:)\"\n",
        "\n",
        "    if topic.startswith(\"Nerwica lękowa - Co zrobić?\"):\n",
        "      topic = \"Nerwica lękowa - Co zrobić? Moja historia część 1, zamknięta\"\n",
        "    \n",
        "    if line.endswith(\"odpowiedź\\n\") or line.endswith(\"odpowiedzi\\n\"):\n",
        "      matched = re.findall(r\"(\\d+)\", line)\n",
        "      if matched:\n",
        "        number = matched[0]\n",
        "        flag = 1\n",
        "\n",
        "    if flag == 1:\n",
        "      flag = 0\n",
        "      my_list.append([topic, number])\n"
      ],
      "execution_count": null,
      "outputs": [
        {
          "output_type": "error",
          "ename": "IndentationError",
          "evalue": "ignored",
          "traceback": [
            "\u001b[0;36m  File \u001b[0;32m\"<ipython-input-29-b6367e5f5b1e>\"\u001b[0;36m, line \u001b[0;32m41\u001b[0m\n\u001b[0;31m    matched = re.findall(r\"(\\d+)\", line)\u001b[0m\n\u001b[0m          ^\u001b[0m\n\u001b[0;31mIndentationError\u001b[0m\u001b[0;31m:\u001b[0m expected an indented block\n"
          ]
        }
      ]
    },
    {
      "cell_type": "code",
      "metadata": {
        "colab": {
          "base_uri": "https://localhost:8080/",
          "height": 206
        },
        "id": "Z5GNPahjbPPQ",
        "outputId": "ae5146d3-fb3e-4499-8804-eca0d884dd50"
      },
      "source": [
        "import pandas as pd\n",
        "\n",
        "df = pd.DataFrame(my_list, columns=[\"topic\", \"posts\"])\n",
        "df.head()"
      ],
      "execution_count": null,
      "outputs": [
        {
          "output_type": "execute_result",
          "data": {
            "text/html": [
              "<div>\n",
              "<style scoped>\n",
              "    .dataframe tbody tr th:only-of-type {\n",
              "        vertical-align: middle;\n",
              "    }\n",
              "\n",
              "    .dataframe tbody tr th {\n",
              "        vertical-align: top;\n",
              "    }\n",
              "\n",
              "    .dataframe thead th {\n",
              "        text-align: right;\n",
              "    }\n",
              "</style>\n",
              "<table border=\"1\" class=\"dataframe\">\n",
              "  <thead>\n",
              "    <tr style=\"text-align: right;\">\n",
              "      <th></th>\n",
              "      <th>topic</th>\n",
              "      <th>posts</th>\n",
              "    </tr>\n",
              "  </thead>\n",
              "  <tbody>\n",
              "    <tr>\n",
              "      <th>0</th>\n",
              "      <td>Czy to są objawy nerwicy?-WĄTEK ZBIORCZY</td>\n",
              "      <td>3713</td>\n",
              "    </tr>\n",
              "    <tr>\n",
              "      <th>1</th>\n",
              "      <td>Fobia społeczna!</td>\n",
              "      <td>3808</td>\n",
              "    </tr>\n",
              "    <tr>\n",
              "      <th>2</th>\n",
              "      <td>Ataki (jak wyglądają, jak sobie radzimy)</td>\n",
              "      <td>17907</td>\n",
              "    </tr>\n",
              "    <tr>\n",
              "      <th>3</th>\n",
              "      <td>Zjednoczone Stany Lękowe</td>\n",
              "      <td>245</td>\n",
              "    </tr>\n",
              "    <tr>\n",
              "      <th>4</th>\n",
              "      <td>Derealizacja. Depersonalizacja.</td>\n",
              "      <td>5866</td>\n",
              "    </tr>\n",
              "  </tbody>\n",
              "</table>\n",
              "</div>"
            ],
            "text/plain": [
              "                                      topic  posts\n",
              "0  Czy to są objawy nerwicy?-WĄTEK ZBIORCZY   3713\n",
              "1                          Fobia społeczna!   3808\n",
              "2  Ataki (jak wyglądają, jak sobie radzimy)  17907\n",
              "3                  Zjednoczone Stany Lękowe    245\n",
              "4           Derealizacja. Depersonalizacja.   5866"
            ]
          },
          "metadata": {
            "tags": []
          },
          "execution_count": 20
        }
      ]
    },
    {
      "cell_type": "code",
      "metadata": {
        "colab": {
          "base_uri": "https://localhost:8080/",
          "height": 1000
        },
        "id": "gS5n-AdweG3F",
        "outputId": "9c6e98b4-5048-4a75-dd1d-95133f417951"
      },
      "source": [
        "df.head(40)"
      ],
      "execution_count": null,
      "outputs": [
        {
          "output_type": "execute_result",
          "data": {
            "text/html": [
              "<div>\n",
              "<style scoped>\n",
              "    .dataframe tbody tr th:only-of-type {\n",
              "        vertical-align: middle;\n",
              "    }\n",
              "\n",
              "    .dataframe tbody tr th {\n",
              "        vertical-align: top;\n",
              "    }\n",
              "\n",
              "    .dataframe thead th {\n",
              "        text-align: right;\n",
              "    }\n",
              "</style>\n",
              "<table border=\"1\" class=\"dataframe\">\n",
              "  <thead>\n",
              "    <tr style=\"text-align: right;\">\n",
              "      <th></th>\n",
              "      <th>topic</th>\n",
              "      <th>posts</th>\n",
              "    </tr>\n",
              "  </thead>\n",
              "  <tbody>\n",
              "    <tr>\n",
              "      <th>0</th>\n",
              "      <td>Czy to są objawy nerwicy?-WĄTEK ZBIORCZY</td>\n",
              "      <td>3713</td>\n",
              "    </tr>\n",
              "    <tr>\n",
              "      <th>1</th>\n",
              "      <td>Fobia społeczna!</td>\n",
              "      <td>3808</td>\n",
              "    </tr>\n",
              "    <tr>\n",
              "      <th>2</th>\n",
              "      <td>Ataki (jak wyglądają, jak sobie radzimy)</td>\n",
              "      <td>17907</td>\n",
              "    </tr>\n",
              "    <tr>\n",
              "      <th>3</th>\n",
              "      <td>Zjednoczone Stany Lękowe</td>\n",
              "      <td>245</td>\n",
              "    </tr>\n",
              "    <tr>\n",
              "      <th>4</th>\n",
              "      <td>Derealizacja. Depersonalizacja.</td>\n",
              "      <td>5866</td>\n",
              "    </tr>\n",
              "    <tr>\n",
              "      <th>5</th>\n",
              "      <td>Przełamywanie lęków</td>\n",
              "      <td>221</td>\n",
              "    </tr>\n",
              "    <tr>\n",
              "      <th>6</th>\n",
              "      <td>Kilka metod na pokonanie lęku</td>\n",
              "      <td>725</td>\n",
              "    </tr>\n",
              "    <tr>\n",
              "      <th>7</th>\n",
              "      <td>Nerwica Lękowa Co zrobić? Moja historia...część 2</td>\n",
              "      <td>5393</td>\n",
              "    </tr>\n",
              "    <tr>\n",
              "      <th>8</th>\n",
              "      <td>Nerwica a depresja</td>\n",
              "      <td>460</td>\n",
              "    </tr>\n",
              "    <tr>\n",
              "      <th>9</th>\n",
              "      <td>Hipochondria</td>\n",
              "      <td>1</td>\n",
              "    </tr>\n",
              "    <tr>\n",
              "      <th>10</th>\n",
              "      <td>Rodzaje fobii</td>\n",
              "      <td>0</td>\n",
              "    </tr>\n",
              "    <tr>\n",
              "      <th>11</th>\n",
              "      <td>Nerwica lękowa</td>\n",
              "      <td>0</td>\n",
              "    </tr>\n",
              "    <tr>\n",
              "      <th>12</th>\n",
              "      <td>Derealizacja/Depersonalizacja</td>\n",
              "      <td>0</td>\n",
              "    </tr>\n",
              "    <tr>\n",
              "      <th>13</th>\n",
              "      <td>Fobia społeczna</td>\n",
              "      <td>0</td>\n",
              "    </tr>\n",
              "    <tr>\n",
              "      <th>14</th>\n",
              "      <td>Parasomnie w nerwicy lękowej</td>\n",
              "      <td>0</td>\n",
              "    </tr>\n",
              "    <tr>\n",
              "      <th>15</th>\n",
              "      <td>Przyspieszenie wizyty u psychiatry</td>\n",
              "      <td>4</td>\n",
              "    </tr>\n",
              "    <tr>\n",
              "      <th>16</th>\n",
              "      <td>Problem z rodzicem</td>\n",
              "      <td>3</td>\n",
              "    </tr>\n",
              "    <tr>\n",
              "      <th>17</th>\n",
              "      <td>Spięcie miesni</td>\n",
              "      <td>26</td>\n",
              "    </tr>\n",
              "    <tr>\n",
              "      <th>18</th>\n",
              "      <td>Hipochondria - jakie choroby sobie przypisywal...</td>\n",
              "      <td>40052</td>\n",
              "    </tr>\n",
              "    <tr>\n",
              "      <th>19</th>\n",
              "      <td>Zaburzenie lękowe. Myśli egzystencjalne.</td>\n",
              "      <td>7</td>\n",
              "    </tr>\n",
              "    <tr>\n",
              "      <th>20</th>\n",
              "      <td>Pramolan</td>\n",
              "      <td>5</td>\n",
              "    </tr>\n",
              "    <tr>\n",
              "      <th>21</th>\n",
              "      <td>Wizyta u pulmonologa</td>\n",
              "      <td>1</td>\n",
              "    </tr>\n",
              "    <tr>\n",
              "      <th>22</th>\n",
              "      <td>Moje objawy</td>\n",
              "      <td>3</td>\n",
              "    </tr>\n",
              "    <tr>\n",
              "      <th>23</th>\n",
              "      <td>Kynofobia</td>\n",
              "      <td>15</td>\n",
              "    </tr>\n",
              "    <tr>\n",
              "      <th>24</th>\n",
              "      <td>Nerwica / Depresja - inne podejście</td>\n",
              "      <td>7</td>\n",
              "    </tr>\n",
              "    <tr>\n",
              "      <th>25</th>\n",
              "      <td>Czy to może być nerwica?</td>\n",
              "      <td>11</td>\n",
              "    </tr>\n",
              "    <tr>\n",
              "      <th>26</th>\n",
              "      <td>Nawrót lęków</td>\n",
              "      <td>4</td>\n",
              "    </tr>\n",
              "    <tr>\n",
              "      <th>27</th>\n",
              "      <td>Leżący tryb życia spowodowany lękiem</td>\n",
              "      <td>9</td>\n",
              "    </tr>\n",
              "    <tr>\n",
              "      <th>28</th>\n",
              "      <td>Wrażenia napięcia mięścni, duszności, itp.</td>\n",
              "      <td>5</td>\n",
              "    </tr>\n",
              "    <tr>\n",
              "      <th>29</th>\n",
              "      <td>Jakie leki na nerwicę lękową?</td>\n",
              "      <td>10</td>\n",
              "    </tr>\n",
              "    <tr>\n",
              "      <th>30</th>\n",
              "      <td>Klaustrofobia - czy ktoś ma, czuje podobnie?</td>\n",
              "      <td>5</td>\n",
              "    </tr>\n",
              "    <tr>\n",
              "      <th>31</th>\n",
              "      <td>Przeczytajcie może wy pomożecie..</td>\n",
              "      <td>0</td>\n",
              "    </tr>\n",
              "    <tr>\n",
              "      <th>32</th>\n",
              "      <td>Jestem w pracy i złapał mnie ogromny lęk,pomóż...</td>\n",
              "      <td>13</td>\n",
              "    </tr>\n",
              "    <tr>\n",
              "      <th>33</th>\n",
              "      <td>Nerwica PO treningu sportowym</td>\n",
              "      <td>6</td>\n",
              "    </tr>\n",
              "    <tr>\n",
              "      <th>34</th>\n",
              "      <td>interpretacja nawrotu choroby</td>\n",
              "      <td>1</td>\n",
              "    </tr>\n",
              "    <tr>\n",
              "      <th>35</th>\n",
              "      <td>Oddawanie moczu a nerwica</td>\n",
              "      <td>13</td>\n",
              "    </tr>\n",
              "    <tr>\n",
              "      <th>36</th>\n",
              "      <td>Kaszlący ludzie doprowadzają mnie do szału</td>\n",
              "      <td>2</td>\n",
              "    </tr>\n",
              "    <tr>\n",
              "      <th>37</th>\n",
              "      <td>Zapisałem się do psychiatry - nie wiem czy to ...</td>\n",
              "      <td>7</td>\n",
              "    </tr>\n",
              "    <tr>\n",
              "      <th>38</th>\n",
              "      <td>Tężyczka a nerwica lękowa</td>\n",
              "      <td>60</td>\n",
              "    </tr>\n",
              "    <tr>\n",
              "      <th>39</th>\n",
              "      <td>Toaleta...</td>\n",
              "      <td>23</td>\n",
              "    </tr>\n",
              "  </tbody>\n",
              "</table>\n",
              "</div>"
            ],
            "text/plain": [
              "                                                topic  posts\n",
              "0            Czy to są objawy nerwicy?-WĄTEK ZBIORCZY   3713\n",
              "1                                    Fobia społeczna!   3808\n",
              "2            Ataki (jak wyglądają, jak sobie radzimy)  17907\n",
              "3                            Zjednoczone Stany Lękowe    245\n",
              "4                     Derealizacja. Depersonalizacja.   5866\n",
              "5                                 Przełamywanie lęków    221\n",
              "6                       Kilka metod na pokonanie lęku    725\n",
              "7   Nerwica Lękowa Co zrobić? Moja historia...część 2   5393\n",
              "8                                  Nerwica a depresja    460\n",
              "9                                        Hipochondria      1\n",
              "10                                      Rodzaje fobii      0\n",
              "11                                     Nerwica lękowa      0\n",
              "12                      Derealizacja/Depersonalizacja      0\n",
              "13                                    Fobia społeczna      0\n",
              "14                       Parasomnie w nerwicy lękowej      0\n",
              "15                 Przyspieszenie wizyty u psychiatry      4\n",
              "16                                 Problem z rodzicem      3\n",
              "17                                     Spięcie miesni     26\n",
              "18  Hipochondria - jakie choroby sobie przypisywal...  40052\n",
              "19           Zaburzenie lękowe. Myśli egzystencjalne.      7\n",
              "20                                           Pramolan      5\n",
              "21                               Wizyta u pulmonologa      1\n",
              "22                                        Moje objawy      3\n",
              "23                                          Kynofobia     15\n",
              "24                Nerwica / Depresja - inne podejście      7\n",
              "25                           Czy to może być nerwica?     11\n",
              "26                                       Nawrót lęków      4\n",
              "27               Leżący tryb życia spowodowany lękiem      9\n",
              "28         Wrażenia napięcia mięścni, duszności, itp.      5\n",
              "29                      Jakie leki na nerwicę lękową?     10\n",
              "30       Klaustrofobia - czy ktoś ma, czuje podobnie?      5\n",
              "31                  Przeczytajcie może wy pomożecie..      0\n",
              "32  Jestem w pracy i złapał mnie ogromny lęk,pomóż...     13\n",
              "33                      Nerwica PO treningu sportowym      6\n",
              "34                      interpretacja nawrotu choroby      1\n",
              "35                          Oddawanie moczu a nerwica     13\n",
              "36         Kaszlący ludzie doprowadzają mnie do szału      2\n",
              "37  Zapisałem się do psychiatry - nie wiem czy to ...      7\n",
              "38                          Tężyczka a nerwica lękowa     60\n",
              "39                                         Toaleta...     23"
            ]
          },
          "metadata": {
            "tags": []
          },
          "execution_count": 33
        }
      ]
    },
    {
      "cell_type": "code",
      "metadata": {
        "colab": {
          "base_uri": "https://localhost:8080/",
          "height": 206
        },
        "id": "wNPyz9KZc5e7",
        "outputId": "40608f54-658c-4519-b2a0-ebec05a8c7a6"
      },
      "source": [
        "df.tail()"
      ],
      "execution_count": null,
      "outputs": [
        {
          "output_type": "execute_result",
          "data": {
            "text/html": [
              "<div>\n",
              "<style scoped>\n",
              "    .dataframe tbody tr th:only-of-type {\n",
              "        vertical-align: middle;\n",
              "    }\n",
              "\n",
              "    .dataframe tbody tr th {\n",
              "        vertical-align: top;\n",
              "    }\n",
              "\n",
              "    .dataframe thead th {\n",
              "        text-align: right;\n",
              "    }\n",
              "</style>\n",
              "<table border=\"1\" class=\"dataframe\">\n",
              "  <thead>\n",
              "    <tr style=\"text-align: right;\">\n",
              "      <th></th>\n",
              "      <th>topic</th>\n",
              "      <th>posts</th>\n",
              "    </tr>\n",
              "  </thead>\n",
              "  <tbody>\n",
              "    <tr>\n",
              "      <th>4881</th>\n",
              "      <td>cZym My sie tak Martwimy? denerwujemy?o czym m...</td>\n",
              "      <td>24</td>\n",
              "    </tr>\n",
              "    <tr>\n",
              "      <th>4882</th>\n",
              "      <td>DIALOG WEWNĘTRZNY I ZEWNĘTRZNY</td>\n",
              "      <td>5</td>\n",
              "    </tr>\n",
              "    <tr>\n",
              "      <th>4883</th>\n",
              "      <td>jeśli nie masz jasnego celu co robić...</td>\n",
              "      <td>8</td>\n",
              "    </tr>\n",
              "    <tr>\n",
              "      <th>4884</th>\n",
              "      <td>DEZORIENTACJA</td>\n",
              "      <td>5</td>\n",
              "    </tr>\n",
              "    <tr>\n",
              "      <th>4885</th>\n",
              "      <td>katatonia. otępinie. patrzę nie widzę. słucham...</td>\n",
              "      <td>1</td>\n",
              "    </tr>\n",
              "  </tbody>\n",
              "</table>\n",
              "</div>"
            ],
            "text/plain": [
              "                                                  topic  posts\n",
              "4881  cZym My sie tak Martwimy? denerwujemy?o czym m...     24\n",
              "4882                     DIALOG WEWNĘTRZNY I ZEWNĘTRZNY      5\n",
              "4883            jeśli nie masz jasnego celu co robić...      8\n",
              "4884                                      DEZORIENTACJA      5\n",
              "4885  katatonia. otępinie. patrzę nie widzę. słucham...      1"
            ]
          },
          "metadata": {
            "tags": []
          },
          "execution_count": 28
        }
      ]
    },
    {
      "cell_type": "code",
      "metadata": {
        "id": "WrMr7kkxb4pG"
      },
      "source": [
        "df['posts'] = df['posts'].astype('int64')"
      ],
      "execution_count": null,
      "outputs": []
    },
    {
      "cell_type": "code",
      "metadata": {
        "colab": {
          "base_uri": "https://localhost:8080/",
          "height": 609
        },
        "id": "8NUWATXXcDQM",
        "outputId": "45cf96b8-6287-4ba4-e77d-545deec92fa4"
      },
      "source": [
        "df['posts'].hist(figsize=(20,10), bins=3)"
      ],
      "execution_count": null,
      "outputs": [
        {
          "output_type": "execute_result",
          "data": {
            "text/plain": [
              "<matplotlib.axes._subplots.AxesSubplot at 0x7f48921abc50>"
            ]
          },
          "metadata": {
            "tags": []
          },
          "execution_count": 22
        },
        {
          "output_type": "display_data",
          "data": {
            "image/png": "[encoded data removed]",
            "text/plain": [
              "<Figure size 1440x720 with 1 Axes>"
            ]
          },
          "metadata": {
            "tags": [],
            "needs_background": "light"
          }
        }
      ]
    },
    {
      "cell_type": "code",
      "metadata": {
        "colab": {
          "base_uri": "https://localhost:8080/",
          "height": 609
        },
        "id": "1ypfEztccDQN",
        "outputId": "e29b45ad-3a78-4d00-bad7-f357a8baa0ea"
      },
      "source": [
        "df[df['posts'] < 2000]['posts'].hist(figsize=(20,10))"
      ],
      "execution_count": null,
      "outputs": [
        {
          "output_type": "execute_result",
          "data": {
            "text/plain": [
              "<matplotlib.axes._subplots.AxesSubplot at 0x7f489223e690>"
            ]
          },
          "metadata": {
            "tags": []
          },
          "execution_count": 23
        },
        {
          "output_type": "display_data",
          "data": {
            "image/png": "[encoded data removed]",
            "text/plain": [
              "<Figure size 1440x720 with 1 Axes>"
            ]
          },
          "metadata": {
            "tags": [],
            "needs_background": "light"
          }
        }
      ]
    },
    {
      "cell_type": "code",
      "metadata": {
        "colab": {
          "base_uri": "https://localhost:8080/",
          "height": 609
        },
        "id": "dKG79cUqcDQP",
        "outputId": "d19d9504-f1ea-4330-ee60-12ba7aabcabf"
      },
      "source": [
        "df[df['posts'] < 200]['posts'].hist(figsize=(20,10))"
      ],
      "execution_count": null,
      "outputs": [
        {
          "output_type": "execute_result",
          "data": {
            "text/plain": [
              "<matplotlib.axes._subplots.AxesSubplot at 0x7f4892144e90>"
            ]
          },
          "metadata": {
            "tags": []
          },
          "execution_count": 24
        },
        {
          "output_type": "display_data",
          "data": {
            "image/png": "[encoded data removed]",
            "text/plain": [
              "<Figure size 1440x720 with 1 Axes>"
            ]
          },
          "metadata": {
            "tags": [],
            "needs_background": "light"
          }
        }
      ]
    },
    {
      "cell_type": "code",
      "metadata": {
        "colab": {
          "base_uri": "https://localhost:8080/"
        },
        "id": "KuVWvbqmcDQS",
        "outputId": "044ee2f5-2f90-4e15-bed1-a4a0c97456c3"
      },
      "source": [
        "df['posts'].describe()"
      ],
      "execution_count": null,
      "outputs": [
        {
          "output_type": "execute_result",
          "data": {
            "text/plain": [
              "count     4886.000000\n",
              "mean        33.713672\n",
              "std        672.350712\n",
              "min          0.000000\n",
              "25%          2.000000\n",
              "50%          4.000000\n",
              "75%         10.000000\n",
              "max      40052.000000\n",
              "Name: posts, dtype: float64"
            ]
          },
          "metadata": {
            "tags": []
          },
          "execution_count": 25
        }
      ]
    },
    {
      "cell_type": "code",
      "metadata": {
        "colab": {
          "base_uri": "https://localhost:8080/"
        },
        "id": "pSNOBgM6cRXJ",
        "outputId": "1b94c5d0-cd62-4f34-8eaa-1ef74dec3632"
      },
      "source": [
        "df.shape"
      ],
      "execution_count": null,
      "outputs": [
        {
          "output_type": "execute_result",
          "data": {
            "text/plain": [
              "(4886, 2)"
            ]
          },
          "metadata": {
            "tags": []
          },
          "execution_count": 27
        }
      ]
    },
    {
      "cell_type": "code",
      "metadata": {
        "colab": {
          "base_uri": "https://localhost:8080/",
          "height": 238
        },
        "id": "W4FV2Q-HcDQU",
        "outputId": "9caf2410-6253-40bb-f880-b91d00b7843a"
      },
      "source": [
        "df[df['posts'] > 4000]"
      ],
      "execution_count": null,
      "outputs": [
        {
          "output_type": "execute_result",
          "data": {
            "text/html": [
              "<div>\n",
              "<style scoped>\n",
              "    .dataframe tbody tr th:only-of-type {\n",
              "        vertical-align: middle;\n",
              "    }\n",
              "\n",
              "    .dataframe tbody tr th {\n",
              "        vertical-align: top;\n",
              "    }\n",
              "\n",
              "    .dataframe thead th {\n",
              "        text-align: right;\n",
              "    }\n",
              "</style>\n",
              "<table border=\"1\" class=\"dataframe\">\n",
              "  <thead>\n",
              "    <tr style=\"text-align: right;\">\n",
              "      <th></th>\n",
              "      <th>topic</th>\n",
              "      <th>posts</th>\n",
              "    </tr>\n",
              "  </thead>\n",
              "  <tbody>\n",
              "    <tr>\n",
              "      <th>2</th>\n",
              "      <td>Ataki (jak wyglądają, jak sobie radzimy)</td>\n",
              "      <td>17907</td>\n",
              "    </tr>\n",
              "    <tr>\n",
              "      <th>4</th>\n",
              "      <td>Derealizacja. Depersonalizacja.</td>\n",
              "      <td>5866</td>\n",
              "    </tr>\n",
              "    <tr>\n",
              "      <th>7</th>\n",
              "      <td>Nerwica Lękowa Co zrobić? Moja historia...część 2</td>\n",
              "      <td>5393</td>\n",
              "    </tr>\n",
              "    <tr>\n",
              "      <th>18</th>\n",
              "      <td>Hipochondria - jakie choroby sobie przypisywal...</td>\n",
              "      <td>40052</td>\n",
              "    </tr>\n",
              "    <tr>\n",
              "      <th>114</th>\n",
              "      <td>Emetofobia - Lęk przed wymiotowaniem</td>\n",
              "      <td>4567</td>\n",
              "    </tr>\n",
              "    <tr>\n",
              "      <th>4840</th>\n",
              "      <td>Nerwica lękowa - Co zrobić? Moja historia częś...</td>\n",
              "      <td>12423</td>\n",
              "    </tr>\n",
              "  </tbody>\n",
              "</table>\n",
              "</div>"
            ],
            "text/plain": [
              "                                                  topic  posts\n",
              "2              Ataki (jak wyglądają, jak sobie radzimy)  17907\n",
              "4                       Derealizacja. Depersonalizacja.   5866\n",
              "7     Nerwica Lękowa Co zrobić? Moja historia...część 2   5393\n",
              "18    Hipochondria - jakie choroby sobie przypisywal...  40052\n",
              "114                Emetofobia - Lęk przed wymiotowaniem   4567\n",
              "4840  Nerwica lękowa - Co zrobić? Moja historia częś...  12423"
            ]
          },
          "metadata": {
            "tags": []
          },
          "execution_count": 34
        }
      ]
    },
    {
      "cell_type": "code",
      "metadata": {
        "id": "Nj4fGNPZcDQW"
      },
      "source": [
        "df.to_csv('Dawus-nerwica.csv')"
      ],
      "execution_count": null,
      "outputs": []
    },
    {
      "cell_type": "code",
      "metadata": {
        "colab": {
          "base_uri": "https://localhost:8080/",
          "height": 17
        },
        "id": "e7SSOawncDQX",
        "outputId": "fb4f9947-124e-4f20-c115-42137d9cbe10"
      },
      "source": [
        "from google.colab import files\n",
        "files.download(\"Dawus-nerwica.csv\")"
      ],
      "execution_count": null,
      "outputs": [
        {
          "output_type": "display_data",
          "data": {
            "application/javascript": [
              "\n",
              "    async function download(id, filename, size) {\n",
              "      if (!google.colab.kernel.accessAllowed) {\n",
              "        return;\n",
              "      }\n",
              "      const div = document.createElement('div');\n",
              "      const label = document.createElement('label');\n",
              "      label.textContent = `Downloading \"${filename}\": `;\n",
              "      div.appendChild(label);\n",
              "      const progress = document.createElement('progress');\n",
              "      progress.max = size;\n",
              "      div.appendChild(progress);\n",
              "      document.body.appendChild(div);\n",
              "\n",
              "      const buffers = [];\n",
              "      let downloaded = 0;\n",
              "\n",
              "      const channel = await google.colab.kernel.comms.open(id);\n",
              "      // Send a message to notify the kernel that we're ready.\n",
              "      channel.send({})\n",
              "\n",
              "      for await (const message of channel.messages) {\n",
              "        // Send a message to notify the kernel that we're ready.\n",
              "        channel.send({})\n",
              "        if (message.buffers) {\n",
              "          for (const buffer of message.buffers) {\n",
              "            buffers.push(buffer);\n",
              "            downloaded += buffer.byteLength;\n",
              "            progress.value = downloaded;\n",
              "          }\n",
              "        }\n",
              "      }\n",
              "      const blob = new Blob(buffers, {type: 'application/binary'});\n",
              "      const a = document.createElement('a');\n",
              "      a.href = window.URL.createObjectURL(blob);\n",
              "      a.download = filename;\n",
              "      div.appendChild(a);\n",
              "      a.click();\n",
              "      div.remove();\n",
              "    }\n",
              "  "
            ],
            "text/plain": [
              "<IPython.core.display.Javascript object>"
            ]
          },
          "metadata": {
            "tags": []
          }
        },
        {
          "output_type": "display_data",
          "data": {
            "application/javascript": [
              "download(\"download_dda94a1e-f24e-4f5a-8d72-3bcd0674e51c\", \"Dawus-nerwica.csv\", 182148)"
            ],
            "text/plain": [
              "<IPython.core.display.Javascript object>"
            ]
          },
          "metadata": {
            "tags": []
          }
        }
      ]
    }
  ]
}