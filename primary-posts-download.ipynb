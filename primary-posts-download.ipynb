{
  "nbformat": 4,
  "nbformat_minor": 0,
  "metadata": {
    "colab": {
      "name": "primary-posts-download.ipynb",
      "provenance": [],
      "mount_file_id": "https://github.com/pawljmlo/p2p-online-interactions/blob/main/primary-posts-download.ipynb",
      "authorship_tag": "ABX9TyOUM3Qsh396Cspd7aAvXLx6",
      "include_colab_link": true
    },
    "kernelspec": {
      "name": "python3",
      "display_name": "Python 3"
    },
    "language_info": {
      "name": "python"
    }
  },
  "cells": [
    {
      "cell_type": "markdown",
      "metadata": {
        "id": "view-in-github",
        "colab_type": "text"
      },
      "source": [
        "<a href=\"https://colab.research.google.com/github/pawljmlo/p2p-online-interactions/blob/main/primary-posts-download.ipynb\" target=\"_parent\"><img src=\"https://colab.research.google.com/assets/colab-badge.svg\" alt=\"Open In Colab\"/></a>"
      ]
    },
    {
      "cell_type": "markdown",
      "metadata": {
        "id": "PH1SoIo-8GDA"
      },
      "source": [
        "# old"
      ]
    },
    {
      "cell_type": "code",
      "metadata": {
        "id": "4C86wb2EZ0hP"
      },
      "source": [
        "import urllib.request"
      ],
      "execution_count": null,
      "outputs": []
    },
    {
      "cell_type": "code",
      "metadata": {
        "id": "MK-T4GQIZ-6_"
      },
      "source": [
        "opener = urllib.request.FancyURLopener({})\n",
        "url = \"https://www.depresja.ws/topic/614-jak-radzic-sobie-z-depresja/\"\n",
        "f = opener.open(url)\n",
        "content = f.read()"
      ],
      "execution_count": null,
      "outputs": []
    },
    {
      "cell_type": "code",
      "metadata": {
        "id": "ayKVi1EgaCt-"
      },
      "source": [
        "with open('file.html', 'w') as f:\n",
        "  f.write(str(content))"
      ],
      "execution_count": null,
      "outputs": []
    },
    {
      "cell_type": "code",
      "metadata": {
        "id": "U1c-7ouZaKkf"
      },
      "source": [
        "import urllib.request\n",
        "\n",
        "urllib.request.urlretrieve(\"https://www.nerwica.com/topic/13588-co-wam-dzis-sprawilo-radosc/page/1/\", \"N1.html\")"
      ],
      "execution_count": null,
      "outputs": []
    },
    {
      "cell_type": "code",
      "metadata": {
        "id": "nI6HHk6Qawen"
      },
      "source": [
        "import requests\n",
        "\n",
        "url = \"https://stackoverflow.com/questions/24297257/save-html-of-some-website-in-a-txt-file-with-python\"\n",
        "\n",
        "r = requests.get(url)\n",
        "with open('file.txt', 'w') as file:\n",
        "    file.write(r.text)"
      ],
      "execution_count": null,
      "outputs": []
    },
    {
      "cell_type": "code",
      "metadata": {
        "id": "NQrNsg3tbHx8"
      },
      "source": [
        "import requests\n",
        "\n",
        "url = 'https://www.nerwica.com/topic/13588-co-wam-dzis-sprawilo-radosc/page/1/'\n",
        "\n",
        "# This will yield only the HTML code\n",
        "response = requests.get(url)\n",
        "\n",
        "with open('file.HTML', 'w') as file:\n",
        "    file.write(response.text)"
      ],
      "execution_count": null,
      "outputs": []
    },
    {
      "cell_type": "code",
      "metadata": {
        "id": "00qFZrpUmd8Y"
      },
      "source": [
        "!pip install selenium"
      ],
      "execution_count": null,
      "outputs": []
    },
    {
      "cell_type": "code",
      "metadata": {
        "id": "WRK0rz0bg0L6"
      },
      "source": [
        "from selenium import webdriver\n",
        "from selenium.webdriver.common.action_chains import ActionChains\n",
        "from selenium.webdriver.common.keys import Keys\n",
        "\n",
        "br = webdriver.Firefox()\n",
        "br.get('http://www.google.com/')\n",
        "\n",
        "save_me = ActionChains(br).key_down(Keys.CONTROL)\\\n",
        "         .key_down('s').key_up(Keys.CONTROL).key_up('s')\n",
        "save_me.perform()"
      ],
      "execution_count": null,
      "outputs": []
    },
    {
      "cell_type": "markdown",
      "metadata": {
        "id": "MGsrU_eEOOoj"
      },
      "source": [
        "# new"
      ]
    },
    {
      "cell_type": "code",
      "metadata": {
        "id": "QEFxRw888IXW"
      },
      "source": [
        "import pandas as pd\n",
        "import urllib.request\n",
        "import re\n",
        "from glob import glob\n",
        "\n",
        "from math import ceil"
      ],
      "execution_count": 1,
      "outputs": []
    },
    {
      "cell_type": "markdown",
      "metadata": {
        "id": "ngpisy0-8Is7"
      },
      "source": [
        "## depression"
      ]
    },
    {
      "cell_type": "code",
      "metadata": {
        "colab": {
          "base_uri": "https://localhost:8080/",
          "height": 238
        },
        "id": "IDuFcGGSJ3-A",
        "outputId": "d666f43e-6e60-48af-d8b6-68d92745dcf9"
      },
      "source": [
        "df = pd.read_csv(\"/content/drive/MyDrive/projekty/dawid-phd/PhD/csv/topics-depression-v4.csv\", index_col=\"Column1\")\n",
        "df.head()"
      ],
      "execution_count": 2,
      "outputs": [
        {
          "output_type": "execute_result",
          "data": {
            "text/html": [
              "\n",
              "  <div id=\"df-0990381e-10f5-4a05-8e4b-8fd88948b53e\">\n",
              "    <div class=\"colab-df-container\">\n",
              "      <div>\n",
              "<style scoped>\n",
              "    .dataframe tbody tr th:only-of-type {\n",
              "        vertical-align: middle;\n",
              "    }\n",
              "\n",
              "    .dataframe tbody tr th {\n",
              "        vertical-align: top;\n",
              "    }\n",
              "\n",
              "    .dataframe thead th {\n",
              "        text-align: right;\n",
              "    }\n",
              "</style>\n",
              "<table border=\"1\" class=\"dataframe\">\n",
              "  <thead>\n",
              "    <tr style=\"text-align: right;\">\n",
              "      <th></th>\n",
              "      <th>topic</th>\n",
              "      <th>posts</th>\n",
              "      <th>link</th>\n",
              "    </tr>\n",
              "    <tr>\n",
              "      <th>Column1</th>\n",
              "      <th></th>\n",
              "      <th></th>\n",
              "      <th></th>\n",
              "    </tr>\n",
              "  </thead>\n",
              "  <tbody>\n",
              "    <tr>\n",
              "      <th>0</th>\n",
              "      <td>Czy to są objawy nerwicy?-WĄTEK ZBIORCZY</td>\n",
              "      <td>3713</td>\n",
              "      <td>NaN</td>\n",
              "    </tr>\n",
              "    <tr>\n",
              "      <th>1</th>\n",
              "      <td>Fobia społeczna!</td>\n",
              "      <td>3808</td>\n",
              "      <td>NaN</td>\n",
              "    </tr>\n",
              "    <tr>\n",
              "      <th>2</th>\n",
              "      <td>Ataki (jak wyglądają, jak sobie radzimy)</td>\n",
              "      <td>17907</td>\n",
              "      <td>NaN</td>\n",
              "    </tr>\n",
              "    <tr>\n",
              "      <th>3</th>\n",
              "      <td>Zjednoczone Stany Lękowe</td>\n",
              "      <td>245</td>\n",
              "      <td>NaN</td>\n",
              "    </tr>\n",
              "    <tr>\n",
              "      <th>4</th>\n",
              "      <td>Derealizacja. Depersonalizacja.</td>\n",
              "      <td>5866</td>\n",
              "      <td>NaN</td>\n",
              "    </tr>\n",
              "  </tbody>\n",
              "</table>\n",
              "</div>\n",
              "      <button class=\"colab-df-convert\" onclick=\"convertToInteractive('df-0990381e-10f5-4a05-8e4b-8fd88948b53e')\"\n",
              "              title=\"Convert this dataframe to an interactive table.\"\n",
              "              style=\"display:none;\">\n",
              "        \n",
              "  <svg xmlns=\"http://www.w3.org/2000/svg\" height=\"24px\"viewBox=\"0 0 24 24\"\n",
              "       width=\"24px\">\n",
              "    <path d=\"M0 0h24v24H0V0z\" fill=\"none\"/>\n",
              "    <path d=\"M18.56 5.44l.94 2.06.94-2.06 2.06-.94-2.06-.94-.94-2.06-.94 2.06-2.06.94zm-11 1L8.5 8.5l.94-2.06 2.06-.94-2.06-.94L8.5 2.5l-.94 2.06-2.06.94zm10 10l.94 2.06.94-2.06 2.06-.94-2.06-.94-.94-2.06-.94 2.06-2.06.94z\"/><path d=\"M17.41 7.96l-1.37-1.37c-.4-.4-.92-.59-1.43-.59-.52 0-1.04.2-1.43.59L10.3 9.45l-7.72 7.72c-.78.78-.78 2.05 0 2.83L4 21.41c.39.39.9.59 1.41.59.51 0 1.02-.2 1.41-.59l7.78-7.78 2.81-2.81c.8-.78.8-2.07 0-2.86zM5.41 20L4 18.59l7.72-7.72 1.47 1.35L5.41 20z\"/>\n",
              "  </svg>\n",
              "      </button>\n",
              "      \n",
              "  <style>\n",
              "    .colab-df-container {\n",
              "      display:flex;\n",
              "      flex-wrap:wrap;\n",
              "      gap: 12px;\n",
              "    }\n",
              "\n",
              "    .colab-df-convert {\n",
              "      background-color: #E8F0FE;\n",
              "      border: none;\n",
              "      border-radius: 50%;\n",
              "      cursor: pointer;\n",
              "      display: none;\n",
              "      fill: #1967D2;\n",
              "      height: 32px;\n",
              "      padding: 0 0 0 0;\n",
              "      width: 32px;\n",
              "    }\n",
              "\n",
              "    .colab-df-convert:hover {\n",
              "      background-color: #E2EBFA;\n",
              "      box-shadow: 0px 1px 2px rgba(60, 64, 67, 0.3), 0px 1px 3px 1px rgba(60, 64, 67, 0.15);\n",
              "      fill: #174EA6;\n",
              "    }\n",
              "\n",
              "    [theme=dark] .colab-df-convert {\n",
              "      background-color: #3B4455;\n",
              "      fill: #D2E3FC;\n",
              "    }\n",
              "\n",
              "    [theme=dark] .colab-df-convert:hover {\n",
              "      background-color: #434B5C;\n",
              "      box-shadow: 0px 1px 3px 1px rgba(0, 0, 0, 0.15);\n",
              "      filter: drop-shadow(0px 1px 2px rgba(0, 0, 0, 0.3));\n",
              "      fill: #FFFFFF;\n",
              "    }\n",
              "  </style>\n",
              "\n",
              "      <script>\n",
              "        const buttonEl =\n",
              "          document.querySelector('#df-0990381e-10f5-4a05-8e4b-8fd88948b53e button.colab-df-convert');\n",
              "        buttonEl.style.display =\n",
              "          google.colab.kernel.accessAllowed ? 'block' : 'none';\n",
              "\n",
              "        async function convertToInteractive(key) {\n",
              "          const element = document.querySelector('#df-0990381e-10f5-4a05-8e4b-8fd88948b53e');\n",
              "          const dataTable =\n",
              "            await google.colab.kernel.invokeFunction('convertToInteractive',\n",
              "                                                     [key], {});\n",
              "          if (!dataTable) return;\n",
              "\n",
              "          const docLinkHtml = 'Like what you see? Visit the ' +\n",
              "            '<a target=\"_blank\" href=https://colab.research.google.com/notebooks/data_table.ipynb>data table notebook</a>'\n",
              "            + ' to learn more about interactive tables.';\n",
              "          element.innerHTML = '';\n",
              "          dataTable['output_type'] = 'display_data';\n",
              "          await google.colab.output.renderOutput(dataTable, element);\n",
              "          const docLink = document.createElement('div');\n",
              "          docLink.innerHTML = docLinkHtml;\n",
              "          element.appendChild(docLink);\n",
              "        }\n",
              "      </script>\n",
              "    </div>\n",
              "  </div>\n",
              "  "
            ],
            "text/plain": [
              "                                            topic  posts link\n",
              "Column1                                                      \n",
              "0        Czy to są objawy nerwicy?-WĄTEK ZBIORCZY   3713  NaN\n",
              "1                                Fobia społeczna!   3808  NaN\n",
              "2        Ataki (jak wyglądają, jak sobie radzimy)  17907  NaN\n",
              "3                        Zjednoczone Stany Lękowe    245  NaN\n",
              "4                 Derealizacja. Depersonalizacja.   5866  NaN"
            ]
          },
          "metadata": {},
          "execution_count": 2
        }
      ]
    },
    {
      "cell_type": "code",
      "metadata": {
        "id": "Mh-GV3G8X022"
      },
      "source": [
        "drive_depression_folder = \"/content/drive/MyDrive/projekty/dawid-phd/PhD/html/depression/\""
      ],
      "execution_count": null,
      "outputs": []
    },
    {
      "cell_type": "code",
      "metadata": {
        "id": "vYwcIdUbmj48",
        "colab": {
          "base_uri": "https://localhost:8080/"
        },
        "outputId": "581a68fa-30ee-4772-b8af-d69a421cd201"
      },
      "source": [
        "for i, row in df[df['link'].notnull()].iterrows():\n",
        "  \n",
        "  pages = ceil((row['posts']+1)/20)\n",
        "\n",
        "  print(row['topic'])\n",
        "\n",
        "  for page in range(1, pages + 1):\n",
        "\n",
        "    url = row['link'] + 'page-' + str(page)\n",
        "    file_name = (row['group'][:-4] + \" --- \" + row['topic'] + ' page-' + str(page) + \".html\").replace(\"/\", \" \")\n",
        "\n",
        "    urllib.request.urlretrieve(url, drive_depression_folder + file_name)"
      ],
      "execution_count": null,
      "outputs": [
        {
          "output_type": "stream",
          "text": [
            "Gorsze samoloczucie po odstawieniu leków\n",
            "Witajcie - czy jest to ktoś, kto nie zażywa antypresantów?\n",
            "Nie mam już siły\n",
            "Proszę o pomoc\n",
            "Nieleczona od prawie roku\n",
            "odp dlaczego nie znoszę szpitali i specjalistów stamtąd\n",
            "Nasze zalety i powody dla których warto żyć na tym świecie :)\n",
            "SAMOTNOŚĆ\n"
          ],
          "name": "stdout"
        }
      ]
    },
    {
      "cell_type": "code",
      "metadata": {
        "id": "DxWOHPMEgv84",
        "colab": {
          "base_uri": "https://localhost:8080/"
        },
        "outputId": "bebebe81-6331-4ce0-fc70-a5893c2afe97"
      },
      "source": [
        "for file in glob(drive_depression_folder + '*.html'):\n",
        "\n",
        "  print(file)\n",
        "\n",
        "  with open(file, 'r', encoding = 'iso-8859-1') as f:\n",
        "    lines = f.readlines()\n",
        "\n",
        "  first = 0\n",
        "  second = 0\n",
        "\n",
        "  for i in range(0, len(lines)):\n",
        "\n",
        "    flag_first = False\n",
        "    flag_second = False\n",
        "\n",
        "    if not flag_first:\n",
        "      matched = re.findall(r\"keywords\", lines[i])\n",
        "      if matched:\n",
        "        flag_first = True\n",
        "        first = i\n",
        "    \n",
        "    if not flag_second:\n",
        "      matched = re.findall(r\"Podobne tematy\", lines[i])\n",
        "      if matched:\n",
        "        flag_second = True\n",
        "        second = i\n",
        "\n",
        "  # print(first, second)\n",
        "  with open(file, 'w', encoding = 'iso-8859-1') as f:\n",
        "    for i in range(first,second):\n",
        "      f.write(lines[i])\n",
        "\n",
        "  # print(lines)\n",
        "  # break"
      ],
      "execution_count": null,
      "outputs": [
        {
          "output_type": "stream",
          "text": [
            "/content/drive/MyDrive/projekty/dawid-phd/PhD/html/depression/Leki --- Gorsze samoloczucie po odstawieniu leków page-1.html\n",
            "/content/drive/MyDrive/projekty/dawid-phd/PhD/html/depression/Leki --- Gorsze samoloczucie po odstawieniu leków page-2.html\n",
            "/content/drive/MyDrive/projekty/dawid-phd/PhD/html/depression/depresja pytania i rozmowy --- Witajcie - czy jest to ktoś, kto nie zażywa antypresantów? page-1.html\n",
            "/content/drive/MyDrive/projekty/dawid-phd/PhD/html/depression/depresja pytania i rozmowy --- Witajcie - czy jest to ktoś, kto nie zażywa antypresantów? page-2.html\n",
            "/content/drive/MyDrive/projekty/dawid-phd/PhD/html/depression/depresja pytania i rozmowy --- Witajcie - czy jest to ktoś, kto nie zażywa antypresantów? page-3.html\n",
            "/content/drive/MyDrive/projekty/dawid-phd/PhD/html/depression/depresja pytania i rozmowy --- Witajcie - czy jest to ktoś, kto nie zażywa antypresantów? page-4.html\n",
            "/content/drive/MyDrive/projekty/dawid-phd/PhD/html/depression/depresja pytania i rozmowy --- Witajcie - czy jest to ktoś, kto nie zażywa antypresantów? page-5.html\n",
            "/content/drive/MyDrive/projekty/dawid-phd/PhD/html/depression/depresja pytania i rozmowy --- Witajcie - czy jest to ktoś, kto nie zażywa antypresantów? page-6.html\n",
            "/content/drive/MyDrive/projekty/dawid-phd/PhD/html/depression/depresja pytania i rozmowy --- Nie mam już siły page-1.html\n",
            "/content/drive/MyDrive/projekty/dawid-phd/PhD/html/depression/depresja pytania i rozmowy --- Nie mam już siły page-2.html\n",
            "/content/drive/MyDrive/projekty/dawid-phd/PhD/html/depression/depresja pytania i rozmowy --- Nie mam już siły page-3.html\n",
            "/content/drive/MyDrive/projekty/dawid-phd/PhD/html/depression/depresja pytania i rozmowy --- Nie mam już siły page-4.html\n",
            "/content/drive/MyDrive/projekty/dawid-phd/PhD/html/depression/depresja pytania i rozmowy --- Nie mam już siły page-5.html\n",
            "/content/drive/MyDrive/projekty/dawid-phd/PhD/html/depression/depresja pytania i rozmowy --- Nie mam już siły page-6.html\n",
            "/content/drive/MyDrive/projekty/dawid-phd/PhD/html/depression/depresja pytania i rozmowy --- Nie mam już siły page-7.html\n",
            "/content/drive/MyDrive/projekty/dawid-phd/PhD/html/depression/depresja pytania i rozmowy --- Proszę o pomoc page-1.html\n",
            "/content/drive/MyDrive/projekty/dawid-phd/PhD/html/depression/depresja pytania i rozmowy --- Proszę o pomoc page-2.html\n",
            "/content/drive/MyDrive/projekty/dawid-phd/PhD/html/depression/depresja pytania i rozmowy --- Proszę o pomoc page-3.html\n",
            "/content/drive/MyDrive/projekty/dawid-phd/PhD/html/depression/depresja pytania i rozmowy --- Proszę o pomoc page-4.html\n",
            "/content/drive/MyDrive/projekty/dawid-phd/PhD/html/depression/depresja pytania i rozmowy --- Proszę o pomoc page-5.html\n",
            "/content/drive/MyDrive/projekty/dawid-phd/PhD/html/depression/depresja pytania i rozmowy --- Proszę o pomoc page-6.html\n",
            "/content/drive/MyDrive/projekty/dawid-phd/PhD/html/depression/depresja pytania i rozmowy --- Proszę o pomoc page-7.html\n",
            "/content/drive/MyDrive/projekty/dawid-phd/PhD/html/depression/depresja pytania i rozmowy --- Nieleczona od prawie roku page-1.html\n",
            "/content/drive/MyDrive/projekty/dawid-phd/PhD/html/depression/depresja pytania i rozmowy --- Nieleczona od prawie roku page-2.html\n",
            "/content/drive/MyDrive/projekty/dawid-phd/PhD/html/depression/inne zaburzenia borderline, schizofrenia, nerwice --- odp dlaczego nie znoszę szpitali i specjalistów stamtąd page-1.html\n",
            "/content/drive/MyDrive/projekty/dawid-phd/PhD/html/depression/inne zaburzenia borderline, schizofrenia, nerwice --- odp dlaczego nie znoszę szpitali i specjalistów stamtąd page-2.html\n",
            "/content/drive/MyDrive/projekty/dawid-phd/PhD/html/depression/inne zaburzenia borderline, schizofrenia, nerwice --- odp dlaczego nie znoszę szpitali i specjalistów stamtąd page-3.html\n",
            "/content/drive/MyDrive/projekty/dawid-phd/PhD/html/depression/inne zaburzenia borderline, schizofrenia, nerwice --- odp dlaczego nie znoszę szpitali i specjalistów stamtąd page-4.html\n",
            "/content/drive/MyDrive/projekty/dawid-phd/PhD/html/depression/inne zaburzenia borderline, schizofrenia, nerwice --- odp dlaczego nie znoszę szpitali i specjalistów stamtąd page-5.html\n",
            "/content/drive/MyDrive/projekty/dawid-phd/PhD/html/depression/swobodnie, rozmownie --- Nasze zalety i powody dla których warto żyć na tym świecie :) page-1.html\n",
            "/content/drive/MyDrive/projekty/dawid-phd/PhD/html/depression/swobodnie, rozmownie --- Nasze zalety i powody dla których warto żyć na tym świecie :) page-2.html\n",
            "/content/drive/MyDrive/projekty/dawid-phd/PhD/html/depression/swobodnie, rozmownie --- Nasze zalety i powody dla których warto żyć na tym świecie :) page-3.html\n",
            "/content/drive/MyDrive/projekty/dawid-phd/PhD/html/depression/swobodnie, rozmownie --- Nasze zalety i powody dla których warto żyć na tym świecie :) page-4.html\n",
            "/content/drive/MyDrive/projekty/dawid-phd/PhD/html/depression/swobodnie, rozmownie --- Nasze zalety i powody dla których warto żyć na tym świecie :) page-5.html\n",
            "/content/drive/MyDrive/projekty/dawid-phd/PhD/html/depression/swobodnie, rozmownie --- Nasze zalety i powody dla których warto żyć na tym świecie :) page-6.html\n",
            "/content/drive/MyDrive/projekty/dawid-phd/PhD/html/depression/swobodnie, rozmownie --- Nasze zalety i powody dla których warto żyć na tym świecie :) page-7.html\n",
            "/content/drive/MyDrive/projekty/dawid-phd/PhD/html/depression/swobodnie, rozmownie --- Nasze zalety i powody dla których warto żyć na tym świecie :) page-8.html\n",
            "/content/drive/MyDrive/projekty/dawid-phd/PhD/html/depression/swobodnie, rozmownie --- Nasze zalety i powody dla których warto żyć na tym świecie :) page-9.html\n",
            "/content/drive/MyDrive/projekty/dawid-phd/PhD/html/depression/depresja a sztuka --- SAMOTNOŚĆ page-1.html\n",
            "/content/drive/MyDrive/projekty/dawid-phd/PhD/html/depression/depresja a sztuka --- SAMOTNOŚĆ page-2.html\n",
            "/content/drive/MyDrive/projekty/dawid-phd/PhD/html/depression/depresja a sztuka --- SAMOTNOŚĆ page-3.html\n",
            "/content/drive/MyDrive/projekty/dawid-phd/PhD/html/depression/depresja a sztuka --- SAMOTNOŚĆ page-4.html\n",
            "/content/drive/MyDrive/projekty/dawid-phd/PhD/html/depression/depresja a sztuka --- SAMOTNOŚĆ page-5.html\n"
          ],
          "name": "stdout"
        }
      ]
    },
    {
      "cell_type": "markdown",
      "metadata": {
        "id": "DI3l23yOJ0EG"
      },
      "source": [
        "# anxiety"
      ]
    },
    {
      "cell_type": "code",
      "metadata": {
        "colab": {
          "base_uri": "https://localhost:8080/",
          "height": 238
        },
        "id": "9vKwQIBbDpq0",
        "outputId": "cc429fb7-a832-4993-b48c-bc86e0f173c3"
      },
      "source": [
        "df = pd.read_csv(\"/content/drive/MyDrive/Projekty/Peer_to_peer_online_interactions/csv/topics-anxiety-v5.csv\", index_col=\"Column1\")\n",
        "df.head()"
      ],
      "execution_count": 6,
      "outputs": [
        {
          "output_type": "execute_result",
          "data": {
            "text/html": [
              "\n",
              "  <div id=\"df-4c57654c-1652-4752-836e-c8bc2238f767\">\n",
              "    <div class=\"colab-df-container\">\n",
              "      <div>\n",
              "<style scoped>\n",
              "    .dataframe tbody tr th:only-of-type {\n",
              "        vertical-align: middle;\n",
              "    }\n",
              "\n",
              "    .dataframe tbody tr th {\n",
              "        vertical-align: top;\n",
              "    }\n",
              "\n",
              "    .dataframe thead th {\n",
              "        text-align: right;\n",
              "    }\n",
              "</style>\n",
              "<table border=\"1\" class=\"dataframe\">\n",
              "  <thead>\n",
              "    <tr style=\"text-align: right;\">\n",
              "      <th></th>\n",
              "      <th>topic</th>\n",
              "      <th>posts</th>\n",
              "      <th>link</th>\n",
              "    </tr>\n",
              "    <tr>\n",
              "      <th>Column1</th>\n",
              "      <th></th>\n",
              "      <th></th>\n",
              "      <th></th>\n",
              "    </tr>\n",
              "  </thead>\n",
              "  <tbody>\n",
              "    <tr>\n",
              "      <th>0</th>\n",
              "      <td>Czy to są objawy nerwicy?-WĄTEK ZBIORCZY</td>\n",
              "      <td>3713</td>\n",
              "      <td>NaN</td>\n",
              "    </tr>\n",
              "    <tr>\n",
              "      <th>1</th>\n",
              "      <td>Fobia społeczna!</td>\n",
              "      <td>3808</td>\n",
              "      <td>NaN</td>\n",
              "    </tr>\n",
              "    <tr>\n",
              "      <th>2</th>\n",
              "      <td>Ataki (jak wyglądają, jak sobie radzimy)</td>\n",
              "      <td>17907</td>\n",
              "      <td>NaN</td>\n",
              "    </tr>\n",
              "    <tr>\n",
              "      <th>3</th>\n",
              "      <td>Zjednoczone Stany Lękowe</td>\n",
              "      <td>245</td>\n",
              "      <td>NaN</td>\n",
              "    </tr>\n",
              "    <tr>\n",
              "      <th>4</th>\n",
              "      <td>Derealizacja. Depersonalizacja.</td>\n",
              "      <td>5866</td>\n",
              "      <td>NaN</td>\n",
              "    </tr>\n",
              "  </tbody>\n",
              "</table>\n",
              "</div>\n",
              "      <button class=\"colab-df-convert\" onclick=\"convertToInteractive('df-4c57654c-1652-4752-836e-c8bc2238f767')\"\n",
              "              title=\"Convert this dataframe to an interactive table.\"\n",
              "              style=\"display:none;\">\n",
              "        \n",
              "  <svg xmlns=\"http://www.w3.org/2000/svg\" height=\"24px\"viewBox=\"0 0 24 24\"\n",
              "       width=\"24px\">\n",
              "    <path d=\"M0 0h24v24H0V0z\" fill=\"none\"/>\n",
              "    <path d=\"M18.56 5.44l.94 2.06.94-2.06 2.06-.94-2.06-.94-.94-2.06-.94 2.06-2.06.94zm-11 1L8.5 8.5l.94-2.06 2.06-.94-2.06-.94L8.5 2.5l-.94 2.06-2.06.94zm10 10l.94 2.06.94-2.06 2.06-.94-2.06-.94-.94-2.06-.94 2.06-2.06.94z\"/><path d=\"M17.41 7.96l-1.37-1.37c-.4-.4-.92-.59-1.43-.59-.52 0-1.04.2-1.43.59L10.3 9.45l-7.72 7.72c-.78.78-.78 2.05 0 2.83L4 21.41c.39.39.9.59 1.41.59.51 0 1.02-.2 1.41-.59l7.78-7.78 2.81-2.81c.8-.78.8-2.07 0-2.86zM5.41 20L4 18.59l7.72-7.72 1.47 1.35L5.41 20z\"/>\n",
              "  </svg>\n",
              "      </button>\n",
              "      \n",
              "  <style>\n",
              "    .colab-df-container {\n",
              "      display:flex;\n",
              "      flex-wrap:wrap;\n",
              "      gap: 12px;\n",
              "    }\n",
              "\n",
              "    .colab-df-convert {\n",
              "      background-color: #E8F0FE;\n",
              "      border: none;\n",
              "      border-radius: 50%;\n",
              "      cursor: pointer;\n",
              "      display: none;\n",
              "      fill: #1967D2;\n",
              "      height: 32px;\n",
              "      padding: 0 0 0 0;\n",
              "      width: 32px;\n",
              "    }\n",
              "\n",
              "    .colab-df-convert:hover {\n",
              "      background-color: #E2EBFA;\n",
              "      box-shadow: 0px 1px 2px rgba(60, 64, 67, 0.3), 0px 1px 3px 1px rgba(60, 64, 67, 0.15);\n",
              "      fill: #174EA6;\n",
              "    }\n",
              "\n",
              "    [theme=dark] .colab-df-convert {\n",
              "      background-color: #3B4455;\n",
              "      fill: #D2E3FC;\n",
              "    }\n",
              "\n",
              "    [theme=dark] .colab-df-convert:hover {\n",
              "      background-color: #434B5C;\n",
              "      box-shadow: 0px 1px 3px 1px rgba(0, 0, 0, 0.15);\n",
              "      filter: drop-shadow(0px 1px 2px rgba(0, 0, 0, 0.3));\n",
              "      fill: #FFFFFF;\n",
              "    }\n",
              "  </style>\n",
              "\n",
              "      <script>\n",
              "        const buttonEl =\n",
              "          document.querySelector('#df-4c57654c-1652-4752-836e-c8bc2238f767 button.colab-df-convert');\n",
              "        buttonEl.style.display =\n",
              "          google.colab.kernel.accessAllowed ? 'block' : 'none';\n",
              "\n",
              "        async function convertToInteractive(key) {\n",
              "          const element = document.querySelector('#df-4c57654c-1652-4752-836e-c8bc2238f767');\n",
              "          const dataTable =\n",
              "            await google.colab.kernel.invokeFunction('convertToInteractive',\n",
              "                                                     [key], {});\n",
              "          if (!dataTable) return;\n",
              "\n",
              "          const docLinkHtml = 'Like what you see? Visit the ' +\n",
              "            '<a target=\"_blank\" href=https://colab.research.google.com/notebooks/data_table.ipynb>data table notebook</a>'\n",
              "            + ' to learn more about interactive tables.';\n",
              "          element.innerHTML = '';\n",
              "          dataTable['output_type'] = 'display_data';\n",
              "          await google.colab.output.renderOutput(dataTable, element);\n",
              "          const docLink = document.createElement('div');\n",
              "          docLink.innerHTML = docLinkHtml;\n",
              "          element.appendChild(docLink);\n",
              "        }\n",
              "      </script>\n",
              "    </div>\n",
              "  </div>\n",
              "  "
            ],
            "text/plain": [
              "                                            topic  posts link\n",
              "Column1                                                      \n",
              "0        Czy to są objawy nerwicy?-WĄTEK ZBIORCZY   3713  NaN\n",
              "1                                Fobia społeczna!   3808  NaN\n",
              "2        Ataki (jak wyglądają, jak sobie radzimy)  17907  NaN\n",
              "3                        Zjednoczone Stany Lękowe    245  NaN\n",
              "4                 Derealizacja. Depersonalizacja.   5866  NaN"
            ]
          },
          "metadata": {},
          "execution_count": 6
        }
      ]
    },
    {
      "cell_type": "code",
      "metadata": {
        "id": "7GdAqo_EYAQT"
      },
      "source": [
        "drive_anxiety_folder = \"/content/drive/MyDrive/Projekty/Peer_to_peer_online_interactions/html/anxiety-4/\""
      ],
      "execution_count": 7,
      "outputs": []
    },
    {
      "cell_type": "code",
      "metadata": {
        "id": "Knp3vtU6OVow"
      },
      "source": [
        "for i, row in df[df['link'].notnull()].iterrows():\n",
        "  \n",
        "  pages = ceil((row['posts']+1)/25)\n",
        "\n",
        "  for page in range(1, pages + 1):\n",
        "\n",
        "    url = row['link'] + 'page/' + str(page)\n",
        "    file_name = (row['topic'] + ' page-' + str(page) + \".html\").replace(\"/\", \" \")\n",
        "\n",
        "    urllib.request.urlretrieve(url, drive_anxiety_folder + file_name)\n",
        "\n",
        "  #   break\n",
        "\n",
        "  # break\n",
        "\n",
        "  #   if page > 5: \n",
        "  #     break\n",
        "\n",
        "  # break"
      ],
      "execution_count": 8,
      "outputs": []
    },
    {
      "cell_type": "code",
      "metadata": {
        "id": "92AsUEpmen7n"
      },
      "source": [
        "# problems with one thread \n",
        "\n",
        "drive_anxiety_folder = \"/content/drive/MyDrive/projekty/dawid-phd/html/anxiety-3/\"\n",
        "\n",
        "for page in range(1, 11):\n",
        "\n",
        "    url = row['link'] + 'page/' + str(page)\n",
        "    file_name = ('nerwica lękowa jest 100% wyleczalna' + ' page-' + str(page) + \".html\").replace(\"/\", \" \")\n",
        "\n",
        "    urllib.request.urlretrieve('https://www.nerwica.com/topic/8447-nerwica-lekowa-jest-100-wyleczalna/page/', drive_anxiety_folder + file_name)"
      ],
      "execution_count": null,
      "outputs": []
    },
    {
      "cell_type": "code",
      "metadata": {
        "colab": {
          "base_uri": "https://localhost:8080/"
        },
        "id": "2_ngjsi0YaoT",
        "outputId": "977d6c71-7d57-4b04-a279-038db5575e21"
      },
      "source": [
        "for file in glob(drive_anxiety_folder + '*.html'):\n",
        "\n",
        "  print(file)\n",
        "  \n",
        "  with open(file, 'r') as f:\n",
        "    lines = f.readlines()\n",
        "\n",
        "  photos_list = []\n",
        "\n",
        "  for i in range(0, len(lines)):\n",
        "    matched = re.findall(r\"ipsUserPhoto_large\", lines[i])\n",
        "    if matched:\n",
        "      photos_list.append(i)\n",
        "\n",
        "  photos_list.sort(reverse=True)\n",
        "\n",
        "  for item in photos_list:\n",
        "    lines.pop(item+2)\n",
        "    lines.pop(item+1)\n",
        "    lines.pop(item)\n",
        "    lines.pop(item-1)\n",
        "    lines.pop(item-2)\n",
        "\n",
        "  with open(file, 'w') as f:\n",
        "    for i in range(len(lines)):\n",
        "      f.write(lines[i])"
      ],
      "execution_count": 9,
      "outputs": [
        {
          "output_type": "stream",
          "name": "stdout",
          "text": [
            "/content/drive/MyDrive/Projekty/Peer_to_peer_online_interactions/html/anxiety-4/nerwica lękowa jest 100% wyleczalna page-1.html\n",
            "/content/drive/MyDrive/Projekty/Peer_to_peer_online_interactions/html/anxiety-4/nerwica lękowa jest 100% wyleczalna page-2.html\n",
            "/content/drive/MyDrive/Projekty/Peer_to_peer_online_interactions/html/anxiety-4/nerwica lękowa jest 100% wyleczalna page-3.html\n",
            "/content/drive/MyDrive/Projekty/Peer_to_peer_online_interactions/html/anxiety-4/nerwica lękowa jest 100% wyleczalna page-4.html\n",
            "/content/drive/MyDrive/Projekty/Peer_to_peer_online_interactions/html/anxiety-4/nerwica lękowa jest 100% wyleczalna page-5.html\n",
            "/content/drive/MyDrive/Projekty/Peer_to_peer_online_interactions/html/anxiety-4/nerwica lękowa jest 100% wyleczalna page-6.html\n",
            "/content/drive/MyDrive/Projekty/Peer_to_peer_online_interactions/html/anxiety-4/nerwica lękowa jest 100% wyleczalna page-7.html\n",
            "/content/drive/MyDrive/Projekty/Peer_to_peer_online_interactions/html/anxiety-4/nerwica lękowa jest 100% wyleczalna page-8.html\n",
            "/content/drive/MyDrive/Projekty/Peer_to_peer_online_interactions/html/anxiety-4/nerwica lękowa jest 100% wyleczalna page-9.html\n",
            "/content/drive/MyDrive/Projekty/Peer_to_peer_online_interactions/html/anxiety-4/nerwica lękowa jest 100% wyleczalna page-10.html\n"
          ]
        }
      ]
    },
    {
      "cell_type": "code",
      "metadata": {
        "id": "wUqZ74j3Ob36",
        "colab": {
          "base_uri": "https://localhost:8080/"
        },
        "outputId": "9008b564-5a7e-4a6d-9aa2-816036839939"
      },
      "source": [
        "for file in glob(drive_anxiety_folder + '*.html'):\n",
        "\n",
        "  print(file)\n",
        "\n",
        "  with open(file, 'r') as f:\n",
        "    lines = f.readlines()\n",
        "\n",
        "  first = 0\n",
        "  second = len(lines)\n",
        "\n",
        "  for i in range(0, len(lines)):\n",
        "\n",
        "    flag_first = False\n",
        "    flag_second = False\n",
        "\n",
        "    if not flag_first:\n",
        "      matched = re.findall(r\"recommendedComments\", lines[i])\n",
        "      if matched:\n",
        "        flag_first = True\n",
        "        first = i\n",
        "    \n",
        "    if not flag_second:\n",
        "      # matched = re.findall(r\"ipsType_reset'>Najpopularniejsze\", lines[i]) # for other\n",
        "      matched = re.findall(r\"ipsType_pageTitle'>\", lines[i]) # for standard\n",
        "      if matched:\n",
        "        flag_second = True\n",
        "        second = i\n",
        "\n",
        "  # print(first, second)\n",
        "  with open(file, 'w') as f:\n",
        "\n",
        "    # f.write('<head>')\n",
        "    f.write('<meta charset=\"UTF-8\">')\n",
        "\n",
        "    for i in range(first,second):\n",
        "      f.write(lines[i])\n",
        "\n",
        "  # print(lines)\n",
        "  # break"
      ],
      "execution_count": 10,
      "outputs": [
        {
          "output_type": "stream",
          "name": "stdout",
          "text": [
            "/content/drive/MyDrive/Projekty/Peer_to_peer_online_interactions/html/anxiety-4/nerwica lękowa jest 100% wyleczalna page-1.html\n",
            "/content/drive/MyDrive/Projekty/Peer_to_peer_online_interactions/html/anxiety-4/nerwica lękowa jest 100% wyleczalna page-2.html\n",
            "/content/drive/MyDrive/Projekty/Peer_to_peer_online_interactions/html/anxiety-4/nerwica lękowa jest 100% wyleczalna page-3.html\n",
            "/content/drive/MyDrive/Projekty/Peer_to_peer_online_interactions/html/anxiety-4/nerwica lękowa jest 100% wyleczalna page-4.html\n",
            "/content/drive/MyDrive/Projekty/Peer_to_peer_online_interactions/html/anxiety-4/nerwica lękowa jest 100% wyleczalna page-5.html\n",
            "/content/drive/MyDrive/Projekty/Peer_to_peer_online_interactions/html/anxiety-4/nerwica lękowa jest 100% wyleczalna page-6.html\n",
            "/content/drive/MyDrive/Projekty/Peer_to_peer_online_interactions/html/anxiety-4/nerwica lękowa jest 100% wyleczalna page-7.html\n",
            "/content/drive/MyDrive/Projekty/Peer_to_peer_online_interactions/html/anxiety-4/nerwica lękowa jest 100% wyleczalna page-8.html\n",
            "/content/drive/MyDrive/Projekty/Peer_to_peer_online_interactions/html/anxiety-4/nerwica lękowa jest 100% wyleczalna page-9.html\n",
            "/content/drive/MyDrive/Projekty/Peer_to_peer_online_interactions/html/anxiety-4/nerwica lękowa jest 100% wyleczalna page-10.html\n"
          ]
        }
      ]
    },
    {
      "cell_type": "code",
      "metadata": {
        "id": "g1STaXAvbmis"
      },
      "source": [
        ""
      ],
      "execution_count": null,
      "outputs": []
    }
  ]
}