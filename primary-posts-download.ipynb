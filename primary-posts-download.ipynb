{
  "nbformat": 4,
  "nbformat_minor": 0,
  "metadata": {
    "colab": {
      "name": "primary-posts-download.ipynb",
      "provenance": [],
      "authorship_tag": "ABX9TyOM4QSymbpf0tEZbE1j396s",
      "include_colab_link": true
    },
    "kernelspec": {
      "name": "python3",
      "display_name": "Python 3"
    },
    "language_info": {
      "name": "python"
    }
  },
  "cells": [
    {
      "cell_type": "markdown",
      "metadata": {
        "id": "view-in-github",
        "colab_type": "text"
      },
      "source": [
        "<a href=\"https://colab.research.google.com/github/pawljmlo/dawid-phd/blob/main/primary-posts-download.ipynb\" target=\"_parent\"><img src=\"https://colab.research.google.com/assets/colab-badge.svg\" alt=\"Open In Colab\"/></a>"
      ]
    },
    {
      "cell_type": "code",
      "metadata": {
        "id": "4C86wb2EZ0hP"
      },
      "source": [
        "import urllib.request"
      ],
      "execution_count": null,
      "outputs": []
    },
    {
      "cell_type": "code",
      "metadata": {
        "colab": {
          "base_uri": "https://localhost:8080/"
        },
        "id": "MK-T4GQIZ-6_",
        "outputId": "f4127da5-fd7f-41f1-f28f-212b83539140"
      },
      "source": [
        "opener = urllib.request.FancyURLopener({})\n",
        "url = \"https://www.depresja.ws/topic/614-jak-radzic-sobie-z-depresja/\"\n",
        "f = opener.open(url)\n",
        "content = f.read()"
      ],
      "execution_count": null,
      "outputs": [
        {
          "output_type": "stream",
          "text": [
            "/usr/local/lib/python3.7/dist-packages/ipykernel_launcher.py:1: DeprecationWarning: FancyURLopener style of invoking requests is deprecated. Use newer urlopen functions/methods\n",
            "  \"\"\"Entry point for launching an IPython kernel.\n"
          ],
          "name": "stderr"
        }
      ]
    },
    {
      "cell_type": "code",
      "metadata": {
        "id": "ayKVi1EgaCt-"
      },
      "source": [
        "with open('file.html', 'w') as f:\n",
        "  f.write(str(content))"
      ],
      "execution_count": null,
      "outputs": []
    },
    {
      "cell_type": "code",
      "metadata": {
        "colab": {
          "base_uri": "https://localhost:8080/"
        },
        "id": "U1c-7ouZaKkf",
        "outputId": "7cb8bf7d-ceec-403b-aa04-3aadcba200de"
      },
      "source": [
        "import urllib.request\n",
        "\n",
        "urllib.request.urlretrieve(\"https://www.nerwica.com/topic/13588-co-wam-dzis-sprawilo-radosc/page/1/\", \"N1.html\")"
      ],
      "execution_count": null,
      "outputs": [
        {
          "output_type": "execute_result",
          "data": {
            "text/plain": [
              "('N1.html', <http.client.HTTPMessage at 0x7f0b81552110>)"
            ]
          },
          "metadata": {
            "tags": []
          },
          "execution_count": 19
        }
      ]
    },
    {
      "cell_type": "code",
      "metadata": {
        "id": "nI6HHk6Qawen"
      },
      "source": [
        "import requests\n",
        "\n",
        "url = \"https://stackoverflow.com/questions/24297257/save-html-of-some-website-in-a-txt-file-with-python\"\n",
        "\n",
        "r = requests.get(url)\n",
        "with open('file.txt', 'w') as file:\n",
        "    file.write(r.text)"
      ],
      "execution_count": null,
      "outputs": []
    },
    {
      "cell_type": "code",
      "metadata": {
        "id": "NQrNsg3tbHx8"
      },
      "source": [
        "import requests\n",
        "\n",
        "url = 'https://www.nerwica.com/topic/13588-co-wam-dzis-sprawilo-radosc/page/1/'\n",
        "\n",
        "# This will yield only the HTML code\n",
        "response = requests.get(url)\n",
        "\n",
        "with open('file.HTML', 'w') as file:\n",
        "    file.write(response.text)"
      ],
      "execution_count": null,
      "outputs": []
    },
    {
      "cell_type": "code",
      "metadata": {
        "colab": {
          "base_uri": "https://localhost:8080/"
        },
        "id": "00qFZrpUmd8Y",
        "outputId": "97cb2b3e-21da-4795-fc31-5e3bef380bc3"
      },
      "source": [
        "!pip install selenium"
      ],
      "execution_count": null,
      "outputs": [
        {
          "output_type": "stream",
          "text": [
            "Collecting selenium\n",
            "\u001b[?25l  Downloading https://files.pythonhosted.org/packages/80/d6/4294f0b4bce4de0abf13e17190289f9d0613b0a44e5dd6a7f5ca98459853/selenium-3.141.0-py2.py3-none-any.whl (904kB)\n",
            "\r\u001b[K     |▍                               | 10kB 13.6MB/s eta 0:00:01\r\u001b[K     |▊                               | 20kB 16.2MB/s eta 0:00:01\r\u001b[K     |█                               | 30kB 19.1MB/s eta 0:00:01\r\u001b[K     |█▌                              | 40kB 16.5MB/s eta 0:00:01\r\u001b[K     |█▉                              | 51kB 7.5MB/s eta 0:00:01\r\u001b[K     |██▏                             | 61kB 7.9MB/s eta 0:00:01\r\u001b[K     |██▌                             | 71kB 7.9MB/s eta 0:00:01\r\u001b[K     |███                             | 81kB 7.9MB/s eta 0:00:01\r\u001b[K     |███▎                            | 92kB 8.2MB/s eta 0:00:01\r\u001b[K     |███▋                            | 102kB 7.3MB/s eta 0:00:01\r\u001b[K     |████                            | 112kB 7.3MB/s eta 0:00:01\r\u001b[K     |████▍                           | 122kB 7.3MB/s eta 0:00:01\r\u001b[K     |████▊                           | 133kB 7.3MB/s eta 0:00:01\r\u001b[K     |█████                           | 143kB 7.3MB/s eta 0:00:01\r\u001b[K     |█████▍                          | 153kB 7.3MB/s eta 0:00:01\r\u001b[K     |█████▉                          | 163kB 7.3MB/s eta 0:00:01\r\u001b[K     |██████▏                         | 174kB 7.3MB/s eta 0:00:01\r\u001b[K     |██████▌                         | 184kB 7.3MB/s eta 0:00:01\r\u001b[K     |██████▉                         | 194kB 7.3MB/s eta 0:00:01\r\u001b[K     |███████▎                        | 204kB 7.3MB/s eta 0:00:01\r\u001b[K     |███████▋                        | 215kB 7.3MB/s eta 0:00:01\r\u001b[K     |████████                        | 225kB 7.3MB/s eta 0:00:01\r\u001b[K     |████████▎                       | 235kB 7.3MB/s eta 0:00:01\r\u001b[K     |████████▊                       | 245kB 7.3MB/s eta 0:00:01\r\u001b[K     |█████████                       | 256kB 7.3MB/s eta 0:00:01\r\u001b[K     |█████████▍                      | 266kB 7.3MB/s eta 0:00:01\r\u001b[K     |█████████▉                      | 276kB 7.3MB/s eta 0:00:01\r\u001b[K     |██████████▏                     | 286kB 7.3MB/s eta 0:00:01\r\u001b[K     |██████████▌                     | 296kB 7.3MB/s eta 0:00:01\r\u001b[K     |██████████▉                     | 307kB 7.3MB/s eta 0:00:01\r\u001b[K     |███████████▎                    | 317kB 7.3MB/s eta 0:00:01\r\u001b[K     |███████████▋                    | 327kB 7.3MB/s eta 0:00:01\r\u001b[K     |████████████                    | 337kB 7.3MB/s eta 0:00:01\r\u001b[K     |████████████▎                   | 348kB 7.3MB/s eta 0:00:01\r\u001b[K     |████████████▊                   | 358kB 7.3MB/s eta 0:00:01\r\u001b[K     |█████████████                   | 368kB 7.3MB/s eta 0:00:01\r\u001b[K     |█████████████▍                  | 378kB 7.3MB/s eta 0:00:01\r\u001b[K     |█████████████▊                  | 389kB 7.3MB/s eta 0:00:01\r\u001b[K     |██████████████▏                 | 399kB 7.3MB/s eta 0:00:01\r\u001b[K     |██████████████▌                 | 409kB 7.3MB/s eta 0:00:01\r\u001b[K     |██████████████▉                 | 419kB 7.3MB/s eta 0:00:01\r\u001b[K     |███████████████▏                | 430kB 7.3MB/s eta 0:00:01\r\u001b[K     |███████████████▋                | 440kB 7.3MB/s eta 0:00:01\r\u001b[K     |████████████████                | 450kB 7.3MB/s eta 0:00:01\r\u001b[K     |████████████████▎               | 460kB 7.3MB/s eta 0:00:01\r\u001b[K     |████████████████▋               | 471kB 7.3MB/s eta 0:00:01\r\u001b[K     |█████████████████               | 481kB 7.3MB/s eta 0:00:01\r\u001b[K     |█████████████████▍              | 491kB 7.3MB/s eta 0:00:01\r\u001b[K     |█████████████████▊              | 501kB 7.3MB/s eta 0:00:01\r\u001b[K     |██████████████████▏             | 512kB 7.3MB/s eta 0:00:01\r\u001b[K     |██████████████████▌             | 522kB 7.3MB/s eta 0:00:01\r\u001b[K     |██████████████████▉             | 532kB 7.3MB/s eta 0:00:01\r\u001b[K     |███████████████████▏            | 542kB 7.3MB/s eta 0:00:01\r\u001b[K     |███████████████████▋            | 552kB 7.3MB/s eta 0:00:01\r\u001b[K     |████████████████████            | 563kB 7.3MB/s eta 0:00:01\r\u001b[K     |████████████████████▎           | 573kB 7.3MB/s eta 0:00:01\r\u001b[K     |████████████████████▋           | 583kB 7.3MB/s eta 0:00:01\r\u001b[K     |█████████████████████           | 593kB 7.3MB/s eta 0:00:01\r\u001b[K     |█████████████████████▍          | 604kB 7.3MB/s eta 0:00:01\r\u001b[K     |█████████████████████▊          | 614kB 7.3MB/s eta 0:00:01\r\u001b[K     |██████████████████████          | 624kB 7.3MB/s eta 0:00:01\r\u001b[K     |██████████████████████▌         | 634kB 7.3MB/s eta 0:00:01\r\u001b[K     |██████████████████████▉         | 645kB 7.3MB/s eta 0:00:01\r\u001b[K     |███████████████████████▏        | 655kB 7.3MB/s eta 0:00:01\r\u001b[K     |███████████████████████▌        | 665kB 7.3MB/s eta 0:00:01\r\u001b[K     |████████████████████████        | 675kB 7.3MB/s eta 0:00:01\r\u001b[K     |████████████████████████▎       | 686kB 7.3MB/s eta 0:00:01\r\u001b[K     |████████████████████████▋       | 696kB 7.3MB/s eta 0:00:01\r\u001b[K     |█████████████████████████       | 706kB 7.3MB/s eta 0:00:01\r\u001b[K     |█████████████████████████▍      | 716kB 7.3MB/s eta 0:00:01\r\u001b[K     |█████████████████████████▊      | 727kB 7.3MB/s eta 0:00:01\r\u001b[K     |██████████████████████████      | 737kB 7.3MB/s eta 0:00:01\r\u001b[K     |██████████████████████████▍     | 747kB 7.3MB/s eta 0:00:01\r\u001b[K     |██████████████████████████▉     | 757kB 7.3MB/s eta 0:00:01\r\u001b[K     |███████████████████████████▏    | 768kB 7.3MB/s eta 0:00:01\r\u001b[K     |███████████████████████████▌    | 778kB 7.3MB/s eta 0:00:01\r\u001b[K     |████████████████████████████    | 788kB 7.3MB/s eta 0:00:01\r\u001b[K     |████████████████████████████▎   | 798kB 7.3MB/s eta 0:00:01\r\u001b[K     |████████████████████████████▋   | 808kB 7.3MB/s eta 0:00:01\r\u001b[K     |█████████████████████████████   | 819kB 7.3MB/s eta 0:00:01\r\u001b[K     |█████████████████████████████▍  | 829kB 7.3MB/s eta 0:00:01\r\u001b[K     |█████████████████████████████▊  | 839kB 7.3MB/s eta 0:00:01\r\u001b[K     |██████████████████████████████  | 849kB 7.3MB/s eta 0:00:01\r\u001b[K     |██████████████████████████████▍ | 860kB 7.3MB/s eta 0:00:01\r\u001b[K     |██████████████████████████████▉ | 870kB 7.3MB/s eta 0:00:01\r\u001b[K     |███████████████████████████████▏| 880kB 7.3MB/s eta 0:00:01\r\u001b[K     |███████████████████████████████▌| 890kB 7.3MB/s eta 0:00:01\r\u001b[K     |███████████████████████████████▉| 901kB 7.3MB/s eta 0:00:01\r\u001b[K     |████████████████████████████████| 911kB 7.3MB/s \n",
            "\u001b[?25hRequirement already satisfied: urllib3 in /usr/local/lib/python3.7/dist-packages (from selenium) (1.24.3)\n",
            "Installing collected packages: selenium\n",
            "Successfully installed selenium-3.141.0\n"
          ],
          "name": "stdout"
        }
      ]
    },
    {
      "cell_type": "code",
      "metadata": {
        "id": "WRK0rz0bg0L6",
        "colab": {
          "base_uri": "https://localhost:8080/",
          "height": 453
        },
        "outputId": "9ce37b34-3ea5-44d6-f386-03f06fe97a73"
      },
      "source": [
        "from selenium import webdriver\n",
        "from selenium.webdriver.common.action_chains import ActionChains\n",
        "from selenium.webdriver.common.keys import Keys\n",
        "\n",
        "br = webdriver.Firefox()\n",
        "br.get('http://www.google.com/')\n",
        "\n",
        "save_me = ActionChains(br).key_down(Keys.CONTROL)\\\n",
        "         .key_down('s').key_up(Keys.CONTROL).key_up('s')\n",
        "save_me.perform()"
      ],
      "execution_count": null,
      "outputs": [
        {
          "output_type": "error",
          "ename": "WebDriverException",
          "evalue": "ignored",
          "traceback": [
            "\u001b[0;31m---------------------------------------------------------------------------\u001b[0m",
            "\u001b[0;31mFileNotFoundError\u001b[0m                         Traceback (most recent call last)",
            "\u001b[0;32m/usr/local/lib/python3.7/dist-packages/selenium/webdriver/common/service.py\u001b[0m in \u001b[0;36mstart\u001b[0;34m(self)\u001b[0m\n\u001b[1;32m     75\u001b[0m                                             \u001b[0mstderr\u001b[0m\u001b[0;34m=\u001b[0m\u001b[0mself\u001b[0m\u001b[0;34m.\u001b[0m\u001b[0mlog_file\u001b[0m\u001b[0;34m,\u001b[0m\u001b[0;34m\u001b[0m\u001b[0;34m\u001b[0m\u001b[0m\n\u001b[0;32m---> 76\u001b[0;31m                                             stdin=PIPE)\n\u001b[0m\u001b[1;32m     77\u001b[0m         \u001b[0;32mexcept\u001b[0m \u001b[0mTypeError\u001b[0m\u001b[0;34m:\u001b[0m\u001b[0;34m\u001b[0m\u001b[0;34m\u001b[0m\u001b[0m\n",
            "\u001b[0;32m/usr/lib/python3.7/subprocess.py\u001b[0m in \u001b[0;36m__init__\u001b[0;34m(self, args, bufsize, executable, stdin, stdout, stderr, preexec_fn, close_fds, shell, cwd, env, universal_newlines, startupinfo, creationflags, restore_signals, start_new_session, pass_fds, encoding, errors, text)\u001b[0m\n\u001b[1;32m    799\u001b[0m                                 \u001b[0merrread\u001b[0m\u001b[0;34m,\u001b[0m \u001b[0merrwrite\u001b[0m\u001b[0;34m,\u001b[0m\u001b[0;34m\u001b[0m\u001b[0;34m\u001b[0m\u001b[0m\n\u001b[0;32m--> 800\u001b[0;31m                                 restore_signals, start_new_session)\n\u001b[0m\u001b[1;32m    801\u001b[0m         \u001b[0;32mexcept\u001b[0m\u001b[0;34m:\u001b[0m\u001b[0;34m\u001b[0m\u001b[0;34m\u001b[0m\u001b[0m\n",
            "\u001b[0;32m/usr/lib/python3.7/subprocess.py\u001b[0m in \u001b[0;36m_execute_child\u001b[0;34m(self, args, executable, preexec_fn, close_fds, pass_fds, cwd, env, startupinfo, creationflags, shell, p2cread, p2cwrite, c2pread, c2pwrite, errread, errwrite, restore_signals, start_new_session)\u001b[0m\n\u001b[1;32m   1550\u001b[0m                             \u001b[0merr_msg\u001b[0m \u001b[0;34m+=\u001b[0m \u001b[0;34m': '\u001b[0m \u001b[0;34m+\u001b[0m \u001b[0mrepr\u001b[0m\u001b[0;34m(\u001b[0m\u001b[0merr_filename\u001b[0m\u001b[0;34m)\u001b[0m\u001b[0;34m\u001b[0m\u001b[0;34m\u001b[0m\u001b[0m\n\u001b[0;32m-> 1551\u001b[0;31m                     \u001b[0;32mraise\u001b[0m \u001b[0mchild_exception_type\u001b[0m\u001b[0;34m(\u001b[0m\u001b[0merrno_num\u001b[0m\u001b[0;34m,\u001b[0m \u001b[0merr_msg\u001b[0m\u001b[0;34m,\u001b[0m \u001b[0merr_filename\u001b[0m\u001b[0;34m)\u001b[0m\u001b[0;34m\u001b[0m\u001b[0;34m\u001b[0m\u001b[0m\n\u001b[0m\u001b[1;32m   1552\u001b[0m                 \u001b[0;32mraise\u001b[0m \u001b[0mchild_exception_type\u001b[0m\u001b[0;34m(\u001b[0m\u001b[0merr_msg\u001b[0m\u001b[0;34m)\u001b[0m\u001b[0;34m\u001b[0m\u001b[0;34m\u001b[0m\u001b[0m\n",
            "\u001b[0;31mFileNotFoundError\u001b[0m: [Errno 2] No such file or directory: 'geckodriver': 'geckodriver'",
            "\nDuring handling of the above exception, another exception occurred:\n",
            "\u001b[0;31mWebDriverException\u001b[0m                        Traceback (most recent call last)",
            "\u001b[0;32m<ipython-input-22-002fadd9c783>\u001b[0m in \u001b[0;36m<module>\u001b[0;34m()\u001b[0m\n\u001b[1;32m      3\u001b[0m \u001b[0;32mfrom\u001b[0m \u001b[0mselenium\u001b[0m\u001b[0;34m.\u001b[0m\u001b[0mwebdriver\u001b[0m\u001b[0;34m.\u001b[0m\u001b[0mcommon\u001b[0m\u001b[0;34m.\u001b[0m\u001b[0mkeys\u001b[0m \u001b[0;32mimport\u001b[0m \u001b[0mKeys\u001b[0m\u001b[0;34m\u001b[0m\u001b[0;34m\u001b[0m\u001b[0m\n\u001b[1;32m      4\u001b[0m \u001b[0;34m\u001b[0m\u001b[0m\n\u001b[0;32m----> 5\u001b[0;31m \u001b[0mbr\u001b[0m \u001b[0;34m=\u001b[0m \u001b[0mwebdriver\u001b[0m\u001b[0;34m.\u001b[0m\u001b[0mFirefox\u001b[0m\u001b[0;34m(\u001b[0m\u001b[0;34m)\u001b[0m\u001b[0;34m\u001b[0m\u001b[0;34m\u001b[0m\u001b[0m\n\u001b[0m\u001b[1;32m      6\u001b[0m \u001b[0mbr\u001b[0m\u001b[0;34m.\u001b[0m\u001b[0mget\u001b[0m\u001b[0;34m(\u001b[0m\u001b[0;34m'http://www.google.com/'\u001b[0m\u001b[0;34m)\u001b[0m\u001b[0;34m\u001b[0m\u001b[0;34m\u001b[0m\u001b[0m\n\u001b[1;32m      7\u001b[0m \u001b[0;34m\u001b[0m\u001b[0m\n",
            "\u001b[0;32m/usr/local/lib/python3.7/dist-packages/selenium/webdriver/firefox/webdriver.py\u001b[0m in \u001b[0;36m__init__\u001b[0;34m(self, firefox_profile, firefox_binary, timeout, capabilities, proxy, executable_path, options, service_log_path, firefox_options, service_args, desired_capabilities, log_path, keep_alive)\u001b[0m\n\u001b[1;32m    162\u001b[0m                 \u001b[0mservice_args\u001b[0m\u001b[0;34m=\u001b[0m\u001b[0mservice_args\u001b[0m\u001b[0;34m,\u001b[0m\u001b[0;34m\u001b[0m\u001b[0;34m\u001b[0m\u001b[0m\n\u001b[1;32m    163\u001b[0m                 log_path=service_log_path)\n\u001b[0;32m--> 164\u001b[0;31m             \u001b[0mself\u001b[0m\u001b[0;34m.\u001b[0m\u001b[0mservice\u001b[0m\u001b[0;34m.\u001b[0m\u001b[0mstart\u001b[0m\u001b[0;34m(\u001b[0m\u001b[0;34m)\u001b[0m\u001b[0;34m\u001b[0m\u001b[0;34m\u001b[0m\u001b[0m\n\u001b[0m\u001b[1;32m    165\u001b[0m \u001b[0;34m\u001b[0m\u001b[0m\n\u001b[1;32m    166\u001b[0m             \u001b[0mcapabilities\u001b[0m\u001b[0;34m.\u001b[0m\u001b[0mupdate\u001b[0m\u001b[0;34m(\u001b[0m\u001b[0moptions\u001b[0m\u001b[0;34m.\u001b[0m\u001b[0mto_capabilities\u001b[0m\u001b[0;34m(\u001b[0m\u001b[0;34m)\u001b[0m\u001b[0;34m)\u001b[0m\u001b[0;34m\u001b[0m\u001b[0;34m\u001b[0m\u001b[0m\n",
            "\u001b[0;32m/usr/local/lib/python3.7/dist-packages/selenium/webdriver/common/service.py\u001b[0m in \u001b[0;36mstart\u001b[0;34m(self)\u001b[0m\n\u001b[1;32m     81\u001b[0m                 raise WebDriverException(\n\u001b[1;32m     82\u001b[0m                     \"'%s' executable needs to be in PATH. %s\" % (\n\u001b[0;32m---> 83\u001b[0;31m                         os.path.basename(self.path), self.start_error_message)\n\u001b[0m\u001b[1;32m     84\u001b[0m                 )\n\u001b[1;32m     85\u001b[0m             \u001b[0;32melif\u001b[0m \u001b[0merr\u001b[0m\u001b[0;34m.\u001b[0m\u001b[0merrno\u001b[0m \u001b[0;34m==\u001b[0m \u001b[0merrno\u001b[0m\u001b[0;34m.\u001b[0m\u001b[0mEACCES\u001b[0m\u001b[0;34m:\u001b[0m\u001b[0;34m\u001b[0m\u001b[0;34m\u001b[0m\u001b[0m\n",
            "\u001b[0;31mWebDriverException\u001b[0m: Message: 'geckodriver' executable needs to be in PATH. \n"
          ]
        }
      ]
    },
    {
      "cell_type": "code",
      "metadata": {
        "id": "vYwcIdUbmj48"
      },
      "source": [
        ""
      ],
      "execution_count": null,
      "outputs": []
    }
  ]
}