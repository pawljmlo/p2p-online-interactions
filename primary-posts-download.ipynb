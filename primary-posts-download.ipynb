{
  "nbformat": 4,
  "nbformat_minor": 0,
  "metadata": {
    "colab": {
      "name": "primary-posts-download.ipynb",
      "provenance": [],
      "mount_file_id": "https://github.com/pawljmlo/dawid-phd/blob/main/primary-posts-download.ipynb",
      "authorship_tag": "ABX9TyM6645UEPDeqsLTZoAZx513",
      "include_colab_link": true
    },
    "kernelspec": {
      "name": "python3",
      "display_name": "Python 3"
    },
    "language_info": {
      "name": "python"
    }
  },
  "cells": [
    {
      "cell_type": "markdown",
      "metadata": {
        "id": "view-in-github",
        "colab_type": "text"
      },
      "source": [
        "<a href=\"https://colab.research.google.com/github/pawljmlo/dawid-phd/blob/main/primary-posts-download.ipynb\" target=\"_parent\"><img src=\"https://colab.research.google.com/assets/colab-badge.svg\" alt=\"Open In Colab\"/></a>"
      ]
    },
    {
      "cell_type": "markdown",
      "metadata": {
        "id": "PH1SoIo-8GDA"
      },
      "source": [
        "# old"
      ]
    },
    {
      "cell_type": "code",
      "metadata": {
        "id": "4C86wb2EZ0hP"
      },
      "source": [
        "import urllib.request"
      ],
      "execution_count": null,
      "outputs": []
    },
    {
      "cell_type": "code",
      "metadata": {
        "id": "MK-T4GQIZ-6_"
      },
      "source": [
        "opener = urllib.request.FancyURLopener({})\n",
        "url = \"https://www.depresja.ws/topic/614-jak-radzic-sobie-z-depresja/\"\n",
        "f = opener.open(url)\n",
        "content = f.read()"
      ],
      "execution_count": null,
      "outputs": []
    },
    {
      "cell_type": "code",
      "metadata": {
        "id": "ayKVi1EgaCt-"
      },
      "source": [
        "with open('file.html', 'w') as f:\n",
        "  f.write(str(content))"
      ],
      "execution_count": null,
      "outputs": []
    },
    {
      "cell_type": "code",
      "metadata": {
        "id": "U1c-7ouZaKkf"
      },
      "source": [
        "import urllib.request\n",
        "\n",
        "urllib.request.urlretrieve(\"https://www.nerwica.com/topic/13588-co-wam-dzis-sprawilo-radosc/page/1/\", \"N1.html\")"
      ],
      "execution_count": null,
      "outputs": []
    },
    {
      "cell_type": "code",
      "metadata": {
        "id": "nI6HHk6Qawen"
      },
      "source": [
        "import requests\n",
        "\n",
        "url = \"https://stackoverflow.com/questions/24297257/save-html-of-some-website-in-a-txt-file-with-python\"\n",
        "\n",
        "r = requests.get(url)\n",
        "with open('file.txt', 'w') as file:\n",
        "    file.write(r.text)"
      ],
      "execution_count": null,
      "outputs": []
    },
    {
      "cell_type": "code",
      "metadata": {
        "id": "NQrNsg3tbHx8"
      },
      "source": [
        "import requests\n",
        "\n",
        "url = 'https://www.nerwica.com/topic/13588-co-wam-dzis-sprawilo-radosc/page/1/'\n",
        "\n",
        "# This will yield only the HTML code\n",
        "response = requests.get(url)\n",
        "\n",
        "with open('file.HTML', 'w') as file:\n",
        "    file.write(response.text)"
      ],
      "execution_count": null,
      "outputs": []
    },
    {
      "cell_type": "code",
      "metadata": {
        "id": "00qFZrpUmd8Y"
      },
      "source": [
        "!pip install selenium"
      ],
      "execution_count": null,
      "outputs": []
    },
    {
      "cell_type": "code",
      "metadata": {
        "id": "WRK0rz0bg0L6"
      },
      "source": [
        "from selenium import webdriver\n",
        "from selenium.webdriver.common.action_chains import ActionChains\n",
        "from selenium.webdriver.common.keys import Keys\n",
        "\n",
        "br = webdriver.Firefox()\n",
        "br.get('http://www.google.com/')\n",
        "\n",
        "save_me = ActionChains(br).key_down(Keys.CONTROL)\\\n",
        "         .key_down('s').key_up(Keys.CONTROL).key_up('s')\n",
        "save_me.perform()"
      ],
      "execution_count": null,
      "outputs": []
    },
    {
      "cell_type": "markdown",
      "metadata": {
        "id": "MGsrU_eEOOoj"
      },
      "source": [
        "# new"
      ]
    },
    {
      "cell_type": "code",
      "metadata": {
        "id": "QEFxRw888IXW"
      },
      "source": [
        "import pandas as pd\n",
        "import urllib.request\n",
        "import regex\n",
        "from glob import glob"
      ],
      "execution_count": 115,
      "outputs": []
    },
    {
      "cell_type": "markdown",
      "metadata": {
        "id": "ngpisy0-8Is7"
      },
      "source": [
        "## depression"
      ]
    },
    {
      "cell_type": "code",
      "metadata": {
        "colab": {
          "base_uri": "https://localhost:8080/",
          "height": 238
        },
        "id": "IDuFcGGSJ3-A",
        "outputId": "ebbf173d-6c52-4199-bd46-27a2e508a269"
      },
      "source": [
        "df = pd.read_csv(\"/content/drive/MyDrive/projekty/dawid-phd/PhD/csv/topics-depression-v3-part.csv\", index_col=\"Column1\")\n",
        "df.head()"
      ],
      "execution_count": 130,
      "outputs": [
        {
          "output_type": "execute_result",
          "data": {
            "text/html": [
              "<div>\n",
              "<style scoped>\n",
              "    .dataframe tbody tr th:only-of-type {\n",
              "        vertical-align: middle;\n",
              "    }\n",
              "\n",
              "    .dataframe tbody tr th {\n",
              "        vertical-align: top;\n",
              "    }\n",
              "\n",
              "    .dataframe thead th {\n",
              "        text-align: right;\n",
              "    }\n",
              "</style>\n",
              "<table border=\"1\" class=\"dataframe\">\n",
              "  <thead>\n",
              "    <tr style=\"text-align: right;\">\n",
              "      <th></th>\n",
              "      <th>group</th>\n",
              "      <th>topic</th>\n",
              "      <th>posts</th>\n",
              "      <th>link</th>\n",
              "    </tr>\n",
              "    <tr>\n",
              "      <th>Column1</th>\n",
              "      <th></th>\n",
              "      <th></th>\n",
              "      <th></th>\n",
              "      <th></th>\n",
              "    </tr>\n",
              "  </thead>\n",
              "  <tbody>\n",
              "    <tr>\n",
              "      <th>0</th>\n",
              "      <td>Polecani psychiatrzy.txt</td>\n",
              "      <td>Strony z adresami psychiatrów/ psychologów</td>\n",
              "      <td>29</td>\n",
              "      <td>https://www.depresja.ws/topic/3413-strony-z-ad...</td>\n",
              "    </tr>\n",
              "    <tr>\n",
              "      <th>1</th>\n",
              "      <td>Polecani psychiatrzy.txt</td>\n",
              "      <td>PODPIĘTY  116-123 BEZPŁATNY NR....</td>\n",
              "      <td>20</td>\n",
              "      <td>https://www.depresja.ws/topic/4678-116-123-bez...</td>\n",
              "    </tr>\n",
              "    <tr>\n",
              "      <th>2</th>\n",
              "      <td>Polecani psychiatrzy.txt</td>\n",
              "      <td>PODPIĘTY  Telefon zaufania dla uzależnionych -...</td>\n",
              "      <td>1</td>\n",
              "      <td>https://www.depresja.ws/topic/9861-telefon-zau...</td>\n",
              "    </tr>\n",
              "    <tr>\n",
              "      <th>3</th>\n",
              "      <td>Polecani psychiatrzy.txt</td>\n",
              "      <td>PODPIĘTY  Bezpłatna Poradnia Telefoniczna</td>\n",
              "      <td>7</td>\n",
              "      <td>https://www.depresja.ws/topic/4693-bezplatna-p...</td>\n",
              "    </tr>\n",
              "    <tr>\n",
              "      <th>4</th>\n",
              "      <td>Polecani psychiatrzy.txt</td>\n",
              "      <td>PODPIĘTY  Regulamin</td>\n",
              "      <td>0</td>\n",
              "      <td>https://www.depresja.ws/topic/3318-regulamin/?...</td>\n",
              "    </tr>\n",
              "  </tbody>\n",
              "</table>\n",
              "</div>"
            ],
            "text/plain": [
              "                            group  ...                                               link\n",
              "Column1                            ...                                                   \n",
              "0        Polecani psychiatrzy.txt  ...  https://www.depresja.ws/topic/3413-strony-z-ad...\n",
              "1        Polecani psychiatrzy.txt  ...  https://www.depresja.ws/topic/4678-116-123-bez...\n",
              "2        Polecani psychiatrzy.txt  ...  https://www.depresja.ws/topic/9861-telefon-zau...\n",
              "3        Polecani psychiatrzy.txt  ...  https://www.depresja.ws/topic/4693-bezplatna-p...\n",
              "4        Polecani psychiatrzy.txt  ...  https://www.depresja.ws/topic/3318-regulamin/?...\n",
              "\n",
              "[5 rows x 4 columns]"
            ]
          },
          "metadata": {
            "tags": []
          },
          "execution_count": 130
        }
      ]
    },
    {
      "cell_type": "code",
      "metadata": {
        "id": "vYwcIdUbmj48"
      },
      "source": [
        "for i, row in df[df['link'].notnull()].iterrows():\n",
        "  \n",
        "  pages = ceil((row['posts']+1)/20)\n",
        "\n",
        "  for page in range(1, pages + 1):\n",
        "\n",
        "    url = row['link'] + 'page-' + str(page)\n",
        "    file_name = (row['group'][:-4] + \" --- \" + row['topic'] + ' page-' + str(page) + \".html\").replace(\"/\", \" \")\n",
        "\n",
        "    urllib.request.urlretrieve(url, file_name)"
      ],
      "execution_count": 133,
      "outputs": []
    },
    {
      "cell_type": "code",
      "metadata": {
        "id": "DxWOHPMEgv84"
      },
      "source": [
        "for file in glob('*.html'):\n",
        "\n",
        "  with open(file, 'r', encoding = 'iso-8859-1') as f:\n",
        "    lines = f.readlines()\n",
        "\n",
        "  first = 0\n",
        "  second = 0\n",
        "\n",
        "  for i in range(0, len(lines)):\n",
        "\n",
        "    flag_first = False\n",
        "    flag_second = False\n",
        "\n",
        "    if not flag_first:\n",
        "      matched = re.findall(r\"keywords\", lines[i])\n",
        "      if matched:\n",
        "        flag_first = True\n",
        "        first = i\n",
        "    \n",
        "    if not flag_second:\n",
        "      matched = re.findall(r\"Podobne tematy\", lines[i])\n",
        "      if matched:\n",
        "        flag_second = True\n",
        "        second = i\n",
        "\n",
        "  # print(first, second)\n",
        "  with open(file, 'w', encoding = 'iso-8859-1') as f:\n",
        "    for i in range(first,second):\n",
        "      f.write(lines[i])\n",
        "\n",
        "  # print(lines)\n",
        "  # break"
      ],
      "execution_count": 132,
      "outputs": []
    },
    {
      "cell_type": "markdown",
      "metadata": {
        "id": "DI3l23yOJ0EG"
      },
      "source": [
        "# anxiety"
      ]
    },
    {
      "cell_type": "code",
      "metadata": {
        "colab": {
          "base_uri": "https://localhost:8080/",
          "height": 238
        },
        "id": "9vKwQIBbDpq0",
        "outputId": "2b27b789-3f7e-490e-d98a-b53d28ccda66"
      },
      "source": [
        "df = pd.read_csv(\"/content/drive/MyDrive/projekty/dawid-phd/PhD/csv/topics-anxiety-v3-part.csv\", index_col=\"Column1\")\n",
        "df.head()"
      ],
      "execution_count": 89,
      "outputs": [
        {
          "output_type": "execute_result",
          "data": {
            "text/html": [
              "<div>\n",
              "<style scoped>\n",
              "    .dataframe tbody tr th:only-of-type {\n",
              "        vertical-align: middle;\n",
              "    }\n",
              "\n",
              "    .dataframe tbody tr th {\n",
              "        vertical-align: top;\n",
              "    }\n",
              "\n",
              "    .dataframe thead th {\n",
              "        text-align: right;\n",
              "    }\n",
              "</style>\n",
              "<table border=\"1\" class=\"dataframe\">\n",
              "  <thead>\n",
              "    <tr style=\"text-align: right;\">\n",
              "      <th></th>\n",
              "      <th>topic</th>\n",
              "      <th>posts</th>\n",
              "      <th>link</th>\n",
              "    </tr>\n",
              "    <tr>\n",
              "      <th>Column1</th>\n",
              "      <th></th>\n",
              "      <th></th>\n",
              "      <th></th>\n",
              "    </tr>\n",
              "  </thead>\n",
              "  <tbody>\n",
              "    <tr>\n",
              "      <th>0</th>\n",
              "      <td>Czy to są objawy nerwicy?-WĄTEK ZBIORCZY</td>\n",
              "      <td>3713</td>\n",
              "      <td>https://www.nerwica.com/topic/18912-czy-to-sa-...</td>\n",
              "    </tr>\n",
              "    <tr>\n",
              "      <th>1</th>\n",
              "      <td>Fobia społeczna!</td>\n",
              "      <td>3808</td>\n",
              "      <td>https://www.nerwica.com/topic/709-fobia-spolec...</td>\n",
              "    </tr>\n",
              "    <tr>\n",
              "      <th>2</th>\n",
              "      <td>Ataki (jak wyglądają, jak sobie radzimy)</td>\n",
              "      <td>17907</td>\n",
              "      <td>https://www.nerwica.com/topic/1509-ataki-jak-w...</td>\n",
              "    </tr>\n",
              "    <tr>\n",
              "      <th>3</th>\n",
              "      <td>Zjednoczone Stany Lękowe</td>\n",
              "      <td>245</td>\n",
              "      <td>https://www.nerwica.com/topic/38071-zjednoczon...</td>\n",
              "    </tr>\n",
              "    <tr>\n",
              "      <th>4</th>\n",
              "      <td>Derealizacja. Depersonalizacja.</td>\n",
              "      <td>5866</td>\n",
              "      <td>https://www.nerwica.com/topic/590-derealizacja...</td>\n",
              "    </tr>\n",
              "  </tbody>\n",
              "</table>\n",
              "</div>"
            ],
            "text/plain": [
              "                                            topic  ...                                               link\n",
              "Column1                                            ...                                                   \n",
              "0        Czy to są objawy nerwicy?-WĄTEK ZBIORCZY  ...  https://www.nerwica.com/topic/18912-czy-to-sa-...\n",
              "1                                Fobia społeczna!  ...  https://www.nerwica.com/topic/709-fobia-spolec...\n",
              "2        Ataki (jak wyglądają, jak sobie radzimy)  ...  https://www.nerwica.com/topic/1509-ataki-jak-w...\n",
              "3                        Zjednoczone Stany Lękowe  ...  https://www.nerwica.com/topic/38071-zjednoczon...\n",
              "4                 Derealizacja. Depersonalizacja.  ...  https://www.nerwica.com/topic/590-derealizacja...\n",
              "\n",
              "[5 rows x 3 columns]"
            ]
          },
          "metadata": {
            "tags": []
          },
          "execution_count": 89
        }
      ]
    },
    {
      "cell_type": "code",
      "metadata": {
        "id": "Knp3vtU6OVow"
      },
      "source": [
        "for i, row in df[df['link'].notnull()].iterrows():\n",
        "  \n",
        "  pages = ceil((row['posts']+1)/25)\n",
        "\n",
        "  for page in range(1, pages + 1):\n",
        "\n",
        "    url = row['link'] + 'page/' + str(page)\n",
        "    file_name = (row['topic'] + ' page-' + str(page) + \".html\").replace(\"/\", \" \")\n",
        "\n",
        "    urllib.request.urlretrieve(url, file_name)\n",
        "\n",
        "    if page > 5: \n",
        "      break\n",
        "\n",
        "  break"
      ],
      "execution_count": 103,
      "outputs": []
    },
    {
      "cell_type": "code",
      "metadata": {
        "colab": {
          "base_uri": "https://localhost:8080/"
        },
        "id": "2_ngjsi0YaoT",
        "outputId": "2466a80e-9b36-4ab0-9d82-c1018152d1ce"
      },
      "source": [
        "for file in glob('*.html'):\n",
        "\n",
        "  print(file)\n",
        "  with open(file, 'r') as f:\n",
        "    lines = f.readlines()\n",
        "\n",
        "  photos_list = []\n",
        "\n",
        "  for i in range(0, len(lines)):\n",
        "    matched = re.findall(r\"ipsUserPhoto_large\", lines[i])\n",
        "    if matched:\n",
        "      photos_list.append(i)\n",
        "\n",
        "  photos_list.sort(reverse=True)\n",
        "\n",
        "  for item in photos_list:\n",
        "    lines.pop(item+2)\n",
        "    lines.pop(item+1)\n",
        "    lines.pop(item)\n",
        "    lines.pop(item-1)\n",
        "    lines.pop(item-2)\n",
        "\n",
        "  with open(file, 'w') as f:\n",
        "    for i in range(len(lines)):\n",
        "      f.write(lines[i])"
      ],
      "execution_count": 104,
      "outputs": [
        {
          "output_type": "stream",
          "text": [
            "Czy to są objawy nerwicy?-WĄTEK ZBIORCZY page-2.html\n",
            "Czy to są objawy nerwicy?-WĄTEK ZBIORCZY page-1.html\n",
            "Czy to są objawy nerwicy?-WĄTEK ZBIORCZY page-5.html\n",
            "Czy to są objawy nerwicy?-WĄTEK ZBIORCZY page-4.html\n",
            "Czy to są objawy nerwicy?-WĄTEK ZBIORCZY page-6.html\n",
            "Czy to są objawy nerwicy?-WĄTEK ZBIORCZY page-3.html\n"
          ],
          "name": "stdout"
        }
      ]
    },
    {
      "cell_type": "code",
      "metadata": {
        "id": "wUqZ74j3Ob36"
      },
      "source": [
        "for file in glob('*.html'):\n",
        "\n",
        "  with open(file, 'r') as f:\n",
        "    lines = f.readlines()\n",
        "\n",
        "  first = 0\n",
        "  second = 0\n",
        "\n",
        "  for i in range(0, len(lines)):\n",
        "\n",
        "    flag_first = False\n",
        "    flag_second = False\n",
        "\n",
        "    if not flag_first:\n",
        "      matched = re.findall(r\"recommendedComments\", lines[i])\n",
        "      if matched:\n",
        "        flag_first = True\n",
        "        first = i\n",
        "    \n",
        "    if not flag_second:\n",
        "      matched = re.findall(r\"ipsType_pageTitle'>\", lines[i])\n",
        "      if matched:\n",
        "        flag_second = True\n",
        "        second = i\n",
        "\n",
        "  # print(first, second)\n",
        "  with open(file, 'w') as f:\n",
        "    for i in range(first,second):\n",
        "      f.write(lines[i])\n",
        "\n",
        "  # print(lines)\n",
        "  # break"
      ],
      "execution_count": 105,
      "outputs": []
    },
    {
      "cell_type": "code",
      "metadata": {
        "id": "Yoh-lTS0cg-K"
      },
      "source": [
        ""
      ],
      "execution_count": null,
      "outputs": []
    }
  ]
}