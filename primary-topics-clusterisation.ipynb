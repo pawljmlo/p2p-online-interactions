{
  "nbformat": 4,
  "nbformat_minor": 0,
  "metadata": {
    "colab": {
      "name": "primary-topics-clusterisation.ipynb",
      "provenance": [],
      "authorship_tag": "ABX9TyN8evaJoqHfTFARlER65Jk6",
      "include_colab_link": true
    },
    "kernelspec": {
      "name": "python3",
      "display_name": "Python 3"
    },
    "language_info": {
      "name": "python"
    }
  },
  "cells": [
    {
      "cell_type": "markdown",
      "metadata": {
        "id": "view-in-github",
        "colab_type": "text"
      },
      "source": [
        "<a href=\"https://colab.research.google.com/github/pawljmlo/dawid-phd/blob/main/primary-topics-clusterisation.ipynb\" target=\"_parent\"><img src=\"https://colab.research.google.com/assets/colab-badge.svg\" alt=\"Open In Colab\"/></a>"
      ]
    },
    {
      "cell_type": "markdown",
      "metadata": {
        "id": "d1xeekpQrPLA"
      },
      "source": [
        "## interesting resources\n",
        "\n",
        "https://towardsdatascience.com/clustering-documents-with-python-97314ad6a78d\n",
        "\n",
        "https://github.com/sdadas/polish-nlp-resources\n",
        "\n",
        "https://clarin-pl.eu/dspace/handle/11321/442\n",
        "\n",
        "https://ermlab.com/blog/technicznie/ewaluacja-polskich-word-embeddingow/\n"
      ]
    },
    {
      "cell_type": "code",
      "metadata": {
        "id": "5qrwbDxorFgA"
      },
      "source": [
        ""
      ],
      "execution_count": null,
      "outputs": []
    }
  ]
}